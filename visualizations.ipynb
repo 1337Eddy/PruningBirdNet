{
 "cells": [
  {
   "cell_type": "code",
   "execution_count": 1,
   "id": "2829c82c",
   "metadata": {},
   "outputs": [],
   "source": [
    "import os \n",
    "import matplotlib.pyplot as plt\n",
    "import numpy as np\n",
    "import torch\n",
    "import re\n",
    "from torchsummary import summary\n",
    "import model"
   ]
  },
  {
   "cell_type": "code",
   "execution_count": 2,
   "id": "232ea6b2",
   "metadata": {},
   "outputs": [],
   "source": [
    "def get_distribution(load_path):\n",
    "    softmax = torch.nn.Softmax(dim=0)\n",
    "    checkpoint = torch.load(load_path)\n",
    "    weights = checkpoint['model_state_dict']\n",
    "    pattern_bn_3 = \"module\\.classifier\\.[0-9]+\\.classifier\\.[0-9]+\\.classifier\\.3+\\.weight\"\n",
    "    pattern_bn_7 = \"module\\.classifier\\.[0-9]+\\.classifier\\.[0-9]+\\.classifier\\.7+\\.weight\"\n",
    "    pattern_scaling_factor = \"module\\.classifier\\.[0-9]+\\.classifier\\.[1-9]+\\.W\"\n",
    "    \n",
    "    mean_scale_list = []\n",
    "    var_scale_list = []\n",
    "    \n",
    "    for key, item in weights.items():\n",
    "        bn_3 = re.search(pattern_bn_3, key)\n",
    "        bn_7 = re.search(pattern_bn_7, key)\n",
    "        \n",
    "        scaling_factor = re.search(pattern_scaling_factor, key)\n",
    "        \n",
    "        if bn_3:\n",
    "            values = weights[key]\n",
    "            mean_scale_list[-1][1] = torch.mean(values).cpu()\n",
    "            var_scale_list[-1][1] = torch.var(values).cpu()\n",
    "        if bn_7:\n",
    "            values = weights[key]\n",
    "            mean_scale_list[-1][2] = torch.mean(values).cpu()\n",
    "            var_scale_list[-1][2] = torch.var(values).cpu()\n",
    "\n",
    "        if scaling_factor:\n",
    "            value = weights[key]\n",
    "            value = softmax(value)\n",
    "            mean_scale_list.append([value[0].cpu(),0,0])\n",
    "            var_scale_list.append([value[0].cpu(),0,0])\n",
    "    return mean_scale_list, var_scale_list"
   ]
  },
  {
   "cell_type": "code",
   "execution_count": 3,
   "id": "e13f99b2",
   "metadata": {},
   "outputs": [],
   "source": [
    "def plot_distribution(load_path, save_path):\n",
    "    mean_scale_list, var_scale_list = get_distribution(load_path)\n",
    "    x = [elem[0] for elem in mean_scale_list]\n",
    "    y1 = [elem[1] for elem in mean_scale_list]\n",
    "    y2 = [elem[2] for elem in mean_scale_list]\n",
    "    y3 = [elem[1] for elem in var_scale_list]\n",
    "    y4 = [elem[2] for elem in var_scale_list]\n",
    "    \n",
    "    #print(x)\n",
    "    #print(y1)\n",
    "    #print(y2)\n",
    "    coeff1 = np.corrcoef(x, y1)\n",
    "    coeff2 = np.corrcoef(x, y2)\n",
    "    #coeff3 = np.corrcoef(y1, y2)\n",
    "    \n",
    "    print(\"Korrelationskoeffizient scaling factor - Durschnitt bn layer 1: \" + str(coeff1[0][1]))\n",
    "    print(\"Korrelationskoeffizient scaling factor - Durschnitt bn layer 2: \" + str(coeff2[0][1]))\n",
    "    #print(coeff3)\n",
    "    \n",
    "    fig = plt.figure()\n",
    "    ax = fig.gca()\n",
    "    ax.set_xlabel('block scaling factor')\n",
    "    ax.set_ylabel('mean channel scaling factor')\n",
    "    ax.scatter(x,y1)\n",
    "    ax.scatter(x,y2, marker=\"x\")\n",
    "    #ax.scatter(x,y3, marker=\"<\")\n",
    "    #ax.scatter(x,y4, marker=\">\")\n",
    "    ax.legend([\"Conv Layer 1 mean\", \"Conv Layer 2 mean\", \"Conv Layer 1 var\", \"Conv Layer 2 var\"])\n",
    "    plt.savefig(save_path)"
   ]
  },
  {
   "cell_type": "code",
   "execution_count": 4,
   "id": "e0034aec",
   "metadata": {},
   "outputs": [],
   "source": [
    "def plot_distribution_layer_wise(load_path, save_path):\n",
    "    mean_scale_list, var_scale_list = get_distribution(load_path)\n",
    "    x = [range(0, len(mean_scale_list))]\n",
    "    y0 = [elem[0] for elem in mean_scale_list]\n",
    "    y1 = [elem[1] for elem in mean_scale_list]\n",
    "    y2 = [elem[2] for elem in mean_scale_list]\n",
    "    y3 = [elem[1] for elem in var_scale_list]\n",
    "    y4 = [elem[2] for elem in var_scale_list]\n",
    "    \n",
    "    coeff0 = np.corrcoef(x, y0)\n",
    "    coeff1 = np.corrcoef(x, y1)\n",
    "    coeff2 = np.corrcoef(x, y2)\n",
    "    #coeff3 = np.corrcoef(y1, y2)\n",
    "    \n",
    "    print(\"Korrelationskoeffizient layer - block scaling factor: \" + str(coeff0[0][1]))\n",
    "    print(\"Korrelationskoeffizient layer - Durschnitt bn layer 1: \" + str(coeff1[0][1]))\n",
    "    print(\"Korrelationskoeffizient layer - Durschnitt bn layer 2: \" + str(coeff2[0][1]))\n",
    "    \n",
    "    fig = plt.figure()\n",
    "    ax = fig.gca()\n",
    "    ax.set_xlabel('Layer')\n",
    "    ax.set_ylabel('Factor')\n",
    "    ax.scatter(x, y0)\n",
    "    ax.scatter(x,y1)\n",
    "    ax.scatter(x,y2, marker=\"x\")\n",
    "    ax.legend([\"Block Scaling Factor\", \"Conv Layer 1 mean\", \"Conv Layer 2 mean\", \"Conv Layer 1 var\", \"Conv Layer 2 var\"])\n",
    "    plt.savefig(save_path)"
   ]
  },
  {
   "cell_type": "code",
   "execution_count": 5,
   "id": "b02574df",
   "metadata": {},
   "outputs": [],
   "source": [
    "def plot_train_phase(load_path, save_name=\"\"):\n",
    "    checkpoint = torch.load(load_path)\n",
    "    test_acc = np.array(checkpoint['test_acc_list'])\n",
    "    train_acc = np.array(checkpoint['train_acc_list'])\n",
    "    test_loss = np.array(checkpoint['test_loss_list'])\n",
    "    train_loss = np.array(checkpoint['train_loss_list'])\n",
    "    x = np.array(list(range(0, len(test_acc))))\n",
    "\n",
    "    print(np.max(test_acc))\n",
    "    fig, ax1 = plt.subplots()\n",
    "    \n",
    "    plt.grid(axis='both')\n",
    "    color = 'tab:red'\n",
    "    ax1.set_xlabel('epochs')\n",
    "    ax1.set_ylabel('accuracy')\n",
    "    if len(train_acc) == len(x):\n",
    "        ax1.plot(x, test_acc, color='g')\n",
    "        ax1.plot(x, train_acc, color='r')\n",
    "    else:\n",
    "        ax1.plot(x, test_acc, color='g')\n",
    "        ax1.plot(x[1:], train_acc, color='r')\n",
    "    ax1.tick_params(axis='y')\n",
    "\n",
    "    ax2 = ax1.twinx()  # instantiate a second axes that shares the same x-axis\n",
    "\n",
    "    color = 'tab:blue'\n",
    "    ax2.set_ylabel('loss')  # we already handled the x-label with ax1\n",
    "    if len(train_loss) == len(x):\n",
    "        ax2.plot(x, test_loss, color='b')\n",
    "        ax2.plot(x, train_loss, color='y')\n",
    "    else:\n",
    "        ax2.plot(x, test_loss, color='b')\n",
    "        ax2.plot(x[1:], train_loss, color='y')\n",
    "    ax2.tick_params(axis='y')\n",
    "\n",
    "    #plt.xticks(list(range(0, len(x), 2)))\n",
    "    ax1.legend(['test accuracy', 'train accuracy'])\n",
    "    ax2.legend(['test loss', 'train loss'])\n",
    "    fig.tight_layout()  # otherwise the right y-label is slightly clipped\n",
    "    if save_name:\n",
    "        plt.savefig(save_name)\n",
    "    #plt.show()\n"
   ]
  },
  {
   "cell_type": "code",
   "execution_count": 6,
   "id": "b3e7e4fa",
   "metadata": {},
   "outputs": [],
   "source": [
    "def plot_train_phase_new(load_path, save_name=\"\"):\n",
    "    checkpoint = torch.load(load_path)\n",
    "    test_acc = np.array(checkpoint['test_acc_list'])\n",
    "    train_acc = np.array(checkpoint['train_acc_list'])\n",
    "    test_loss_subdivision = np.array(checkpoint['test_loss_list'])\n",
    "    train_loss_subdivision = np.array(checkpoint['train_loss_list'])    \n",
    "    \n",
    "    test_loss = [x[0] for x in test_loss_subdivision]\n",
    "    test_loss_block = [x[1] for x in test_loss_subdivision]\n",
    "    test_loss_channel = [x[2] for x in test_loss_subdivision]\n",
    "    test_loss_acc = [x[3] for x in test_loss_subdivision]\n",
    "    \n",
    "    train_loss = [x[0] for x in train_loss_subdivision]\n",
    "    train_loss_block = [x[1] for x in train_loss_subdivision]\n",
    "    train_loss_channel = [x[2] for x in train_loss_subdivision]\n",
    "    train_loss_acc = [x[3] for x in train_loss_subdivision]\n",
    "    \n",
    "    \n",
    "    x = np.array(list(range(0, len(test_acc))))\n",
    "\n",
    "    print(np.max(test_acc))\n",
    "    fig, ax1 = plt.subplots()\n",
    "    \n",
    "    plt.grid(axis='both')\n",
    "    color = 'tab:red'\n",
    "    ax1.set_xlabel('epochs')\n",
    "    ax1.set_ylabel('accuracy')\n",
    "    if len(train_acc) == len(x):\n",
    "        ax1.plot(x, test_acc, color='g')\n",
    "        #ax1.plot(x, train_acc, color='r')\n",
    "    else:\n",
    "        ax1.plot(x, test_acc, color='g')\n",
    "        #ax1.plot(x[1:], train_acc, color='r')\n",
    "    ax1.tick_params(axis='y')\n",
    "\n",
    "    ax2 = ax1.twinx()  # instantiate a second axes that shares the same x-axis\n",
    "\n",
    "    color = 'tab:blue'\n",
    "    ax2.set_ylabel('loss')  # we already handled the x-label with ax1\n",
    "    if len(train_loss) == len(x):\n",
    "        ax2.plot(x, test_loss, color='b')\n",
    "        ax2.plot(x, train_loss, color='y')\n",
    "    else:\n",
    "        ax2.plot(x, test_loss, color='b')\n",
    "        ax2.plot(x, test_loss_block, color='k')\n",
    "        ax2.plot(x, test_loss_channel, color='m')\n",
    "        ax2.plot(x, test_loss_acc, color='c')\n",
    "        #ax2.plot(x[1:], train_loss, color='y')\n",
    "    ax2.tick_params(axis='y')\n",
    "\n",
    "    #plt.xticks(list(range(0, len(x), 2)))\n",
    "    ax1.legend(['test accuracy', 'train accuracy'])\n",
    "    ax2.legend(['test loss', 'test loss block','test loss channel','test loss acc','train loss'])\n",
    "    fig.tight_layout()  # otherwise the right y-label is slightly clipped\n",
    "    if save_name:\n",
    "        plt.savefig(save_name)\n",
    "    #plt.show()\n"
   ]
  },
  {
   "cell_type": "code",
   "execution_count": 7,
   "id": "cbd827b9",
   "metadata": {},
   "outputs": [],
   "source": [
    "def count_parameters(model_state_dict):\n",
    "    sum_elem = 0\n",
    "    for key, item in model_state_dict.items():\n",
    "        sum_elem += torch.numel(item)\n",
    "    return sum_elem"
   ]
  },
  {
   "cell_type": "code",
   "execution_count": 8,
   "id": "b60706e9",
   "metadata": {},
   "outputs": [],
   "source": [
    "def get_scaling_factor_distribution(load_path):\n",
    "    softmax = torch.nn.Softmax(dim=0)\n",
    "    print(load_path)\n",
    "    checkpoint = torch.load(load_path)\n",
    "    \n",
    "    weights = checkpoint['model_state_dict']\n",
    "    pattern_bn_3 = \"module\\.classifier\\.[0-9]+\\.classifier\\.[0-9]+\\.classifier\\.3+\\.weight\"\n",
    "    pattern_bn_7 = \"module\\.classifier\\.[0-9]+\\.classifier\\.[0-9]+\\.classifier\\.7+\\.weight\"\n",
    "    pattern_scaling_factor = \"module\\.classifier\\.[0-9]+\\.classifier\\.[1-9]+\\.W\"\n",
    "    \n",
    "    scale_factor_list = []\n",
    "    \n",
    "    for key, item in weights.items():\n",
    "        bn_3 = re.search(pattern_bn_3, key)\n",
    "        bn_7 = re.search(pattern_bn_7, key)\n",
    "        \n",
    "        scaling_factor = re.search(pattern_scaling_factor, key)\n",
    "        \n",
    "        if bn_3:\n",
    "            values = weights[key]\n",
    "            scale_factor_list[-1][1] = values\n",
    "        if bn_7:\n",
    "            values = weights[key]\n",
    "            scale_factor_list[-1][2] = values\n",
    "\n",
    "        if scaling_factor:\n",
    "            value = weights[key]\n",
    "            value = softmax(value)\n",
    "            scale_factor_list.append([value[0].cpu(),0,0])\n",
    "    return scale_factor_list"
   ]
  },
  {
   "cell_type": "code",
   "execution_count": 43,
   "id": "18adb36e",
   "metadata": {},
   "outputs": [],
   "source": [
    "def plot_hist(load_path, save_name=\"\", resolution=50, show=True):\n",
    "    checkpoint = torch.load(load_path)\n",
    "    weights = checkpoint['model_state_dict']\n",
    "    pattern_scaling_factor = \"module\\.classifier\\.[0-9]+\\.classifier\\.[1-9]+\\.W\"\n",
    "    pattern_bn_3 = \"module\\.classifier\\.[0-9]+\\.classifier\\.[0-9]+\\.classifier\\.3+\\.weight\"\n",
    "    pattern_bn_7 = \"module\\.classifier\\.[0-9]+\\.classifier\\.[0-9]+\\.classifier\\.7+\\.weight\"\n",
    "    pattern_ds_1 = \"module\\.classifier\\.[0-9]+\\.classifier\\.[0-9]+\\.classifierPath\\.1+\\.weight\"\n",
    "    pattern_ds_4 = \"module\\.classifier\\.[0-9]+\\.classifier\\.[0-9]+\\.classifierPath\\.4+\\.weight\" \n",
    "    pattern_ds_0 = \"module\\.classifier\\.[0-9]+\\.classifier\\.[0-9]+\\.batchnorm\\.0+\\.weight\"\n",
    "    values = []\n",
    "    scaling_factor = []\n",
    "    for key, item in weights.items():\n",
    "        if re.search(pattern_scaling_factor, key):\n",
    "            #print(item)\n",
    "            scaling_factor += [item.item()]\n",
    "    \n",
    "    for key, item in weights.items():\n",
    "        bn_3 = re.search(pattern_bn_3, key)\n",
    "        bn_7 = re.search(pattern_bn_7, key)\n",
    "        ds_0 = re.search(pattern_ds_0, key)\n",
    "        ds_1 = re.search(pattern_ds_1, key)\n",
    "        ds_4 = re.search(pattern_ds_4, key)\n",
    "\n",
    "        if bn_3 or bn_7 or ds_1 or ds_4 or ds_0:\n",
    "            values += torch.squeeze(item).cpu().tolist()\n",
    "    values = np.array(values)\n",
    "    scaling_factor = np.array(scaling_factor)\n",
    "    #print(len(list(filter(lambda i: i < 0.05, values))))\n",
    "    print(\"Mean:\" + str(round(np.mean(values), 3)).replace('.', ','))\n",
    "    print(\"Variance: \" + str(round(np.var(scaling_factor), 6)).replace('.', ','))\n",
    "    #print(values)\n",
    "    plt.hist(values, resolution)\n",
    "    plt.grid()\n",
    "    if save_name != \"\":\n",
    "        plt.savefig(save_name)\n",
    "    if show:\n",
    "        plt.show()"
   ]
  },
  {
   "cell_type": "code",
   "execution_count": 44,
   "id": "29e65b8c",
   "metadata": {},
   "outputs": [
    {
     "name": "stdout",
     "output_type": "stream",
     "text": [
      "Mean:0,547\n",
      "Variance: 0,008695\n"
     ]
    },
    {
     "data": {
      "image/png": "[encoded data removed]",
      "text/plain": [
       "<Figure size 432x288 with 1 Axes>"
      ]
     },
     "metadata": {
      "needs_background": "light"
     },
     "output_type": "display_data"
    }
   ],
   "source": [
    "plot_hist(\"/media/eddy/datasets/models/CentEuro/hyperparameters/seed_10/delta03_gamma03/birdnet_v15.pt\")"
   ]
  },
  {
   "cell_type": "code",
   "execution_count": 64,
   "id": "d3bcc8f9",
   "metadata": {},
   "outputs": [
    {
     "name": "stdout",
     "output_type": "stream",
     "text": [
      "Mean:0,283\n",
      "Variance: 0,000361\n"
     ]
    },
    {
     "data": {
      "image/png": "[encoded data removed]",
      "text/plain": [
       "<Figure size 432x288 with 1 Axes>"
      ]
     },
     "metadata": {
      "needs_background": "light"
     },
     "output_type": "display_data"
    }
   ],
   "source": [
    "plot_hist(\"/media/eddy/datasets/models/CentEuro/hyperparameters/seed_30/delta07_gamma07/birdnet_v8.pt\")"
   ]
  },
  {
   "cell_type": "code",
   "execution_count": 65,
   "id": "eef831af",
   "metadata": {},
   "outputs": [
    {
     "name": "stdout",
     "output_type": "stream",
     "text": [
      "Mean:0,985\n",
      "Variance: 0,003803\n"
     ]
    },
    {
     "data": {
      "image/png": "[encoded data removed]",
      "text/plain": [
       "<Figure size 432x288 with 1 Axes>"
      ]
     },
     "metadata": {
      "needs_background": "light"
     },
     "output_type": "display_data"
    }
   ],
   "source": [
    "plot_hist(\"/media/eddy/Backup/models/CentEuro/network_size/seed_10/size_2/birdnet_v13.pt\")"
   ]
  },
  {
   "cell_type": "code",
   "execution_count": 66,
   "id": "8bd4f0c9",
   "metadata": {},
   "outputs": [
    {
     "name": "stdout",
     "output_type": "stream",
     "text": [
      "Mean:0,987\n",
      "Variance: 0,004501\n"
     ]
    },
    {
     "data": {
      "image/png": "[encoded data removed]",
      "text/plain": [
       "<Figure size 432x288 with 1 Axes>"
      ]
     },
     "metadata": {
      "needs_background": "light"
     },
     "output_type": "display_data"
    }
   ],
   "source": [
    "plot_hist(\"/media/eddy/Backup/models/CentEuro/network_size/seed_20/size_2/birdnet_v13.pt\")"
   ]
  },
  {
   "cell_type": "code",
   "execution_count": 67,
   "id": "e2de3b8f",
   "metadata": {},
   "outputs": [
    {
     "name": "stdout",
     "output_type": "stream",
     "text": [
      "Mean:0,986\n",
      "Variance: 0,006911\n"
     ]
    },
    {
     "data": {
      "image/png": "[encoded data removed]",
      "text/plain": [
       "<Figure size 432x288 with 1 Axes>"
      ]
     },
     "metadata": {
      "needs_background": "light"
     },
     "output_type": "display_data"
    }
   ],
   "source": [
    "plot_hist(\"/media/eddy/Backup/models/CentEuro/network_size/seed_30/size_2/birdnet_v15.pt\")"
   ]
  },
  {
   "cell_type": "code",
   "execution_count": null,
   "id": "7a035c7d",
   "metadata": {},
   "outputs": [],
   "source": []
  },
  {
   "cell_type": "code",
   "execution_count": null,
   "id": "d05ffac0",
   "metadata": {},
   "outputs": [],
   "source": []
  },
  {
   "cell_type": "code",
   "execution_count": null,
   "id": "b0622519",
   "metadata": {},
   "outputs": [],
   "source": []
  },
  {
   "cell_type": "code",
   "execution_count": null,
   "id": "c0663ffb",
   "metadata": {},
   "outputs": [],
   "source": []
  },
  {
   "cell_type": "code",
   "execution_count": null,
   "id": "10b1fca5",
   "metadata": {},
   "outputs": [],
   "source": []
  },
  {
   "cell_type": "code",
   "execution_count": null,
   "id": "ab76696a",
   "metadata": {},
   "outputs": [],
   "source": []
  },
  {
   "cell_type": "code",
   "execution_count": null,
   "id": "ef8df607",
   "metadata": {},
   "outputs": [],
   "source": []
  },
  {
   "cell_type": "code",
   "execution_count": null,
   "id": "f83452b0",
   "metadata": {},
   "outputs": [],
   "source": []
  },
  {
   "cell_type": "code",
   "execution_count": null,
   "id": "c403e406",
   "metadata": {},
   "outputs": [],
   "source": []
  },
  {
   "cell_type": "code",
   "execution_count": null,
   "id": "0c829756",
   "metadata": {},
   "outputs": [],
   "source": []
  },
  {
   "cell_type": "code",
   "execution_count": null,
   "id": "39e2c518",
   "metadata": {},
   "outputs": [],
   "source": []
  },
  {
   "cell_type": "code",
   "execution_count": null,
   "id": "77c79013",
   "metadata": {},
   "outputs": [],
   "source": []
  },
  {
   "cell_type": "code",
   "execution_count": null,
   "id": "3c817d5a",
   "metadata": {},
   "outputs": [],
   "source": []
  },
  {
   "cell_type": "code",
   "execution_count": 10,
   "id": "5b8a99ce",
   "metadata": {},
   "outputs": [],
   "source": [
    "def model_summary(path, input_dim=(1,64,384)):\n",
    "    checkpoint = torch.load(path)\n",
    "    filters = checkpoint['filters']\n",
    "    birdnet = model.BirdNet(filters=filters)\n",
    "    birdnet = torch.nn.DataParallel(birdnet).cuda()\n",
    "    summary(birdnet, input_dim)"
   ]
  },
  {
   "cell_type": "code",
   "execution_count": null,
   "id": "22b7a84c",
   "metadata": {},
   "outputs": [],
   "source": []
  },
  {
   "cell_type": "markdown",
   "id": "f57a50fa",
   "metadata": {},
   "source": [
    "Train Phase of Modell with gamma=0.5, delta=0.5 in together modus"
   ]
  },
  {
   "cell_type": "code",
   "execution_count": 11,
   "id": "ec4c5564",
   "metadata": {},
   "outputs": [],
   "source": [
    "def plot_accuracy_and_model_size_for_pruned_batch(path, path_baseline, epoch, channel_or_block=\"channel\"):\n",
    "    folders = os.listdir(path)\n",
    "    folders = sorted(folders)\n",
    "    folders = filter(lambda elem: os.path.isdir(path + elem + \"/\"),folders)\n",
    "    files = []\n",
    "    test_acc = []\n",
    "    train_acc = []\n",
    "    test_loss = []\n",
    "    train_loss = []\n",
    "    size = []\n",
    "    baseline = torch.load(path_baseline)\n",
    "    baseline_acc = baseline['test_acc_list'][-1]\n",
    "    baseline_size = count_parameters(baseline['model_state_dict'])\n",
    "    size.append(baseline_size)\n",
    "    \n",
    "    x = []\n",
    "    x.append(0)\n",
    "    for elem in folders:\n",
    "        if channel_or_block == \"channel\":\n",
    "            pattern = re.compile(\"c[0-9]+\")\n",
    "        else: \n",
    "            pattern = re.compile(\"b[0-9]+\")\n",
    "        result = pattern.search(elem)\n",
    "        x.append(int(result[0][1:]))\n",
    "        files.append(path + elem + \"/birdnet_final.pt\")\n",
    "    \n",
    "    print(x)\n",
    "        \n",
    "    for file in files: \n",
    "        checkpoint = torch.load(file)\n",
    "        test_acc.append(np.array(checkpoint['test_acc_list']))\n",
    "        train_acc.append(np.array(checkpoint['train_acc_list']))\n",
    "        test_loss.append(np.array(checkpoint['test_loss_list']))\n",
    "        train_loss.append(np.array(checkpoint['train_loss_list']))\n",
    "        size.append(count_parameters(checkpoint['model_state_dict']))\n",
    "    \n",
    "    y = []\n",
    "    \n",
    "    y.append(baseline_acc)\n",
    "    for elem in test_acc:\n",
    "        if epoch < len(elem):\n",
    "            y.append(elem[epoch])\n",
    "        else: \n",
    "            y.append(elem[-1])\n",
    "    print(y)\n",
    "    print(size)\n",
    "    #x = [i for i in range(0, 110, 10)]\n",
    "    fig, ax1 = plt.subplots()\n",
    "    plt.title(f'Test accuracy of pruned models after {epoch} epoch(s)')\n",
    "    \n",
    "    plt.grid(axis='both')\n",
    "    ax1.set_xlabel('prune ratio')\n",
    "    ax1.set_ylabel('accuracy')\n",
    "    \n",
    "    ax1.plot(x, y, color='g')\n",
    "\n",
    "    ax2 = ax1.twinx()  # instantiate a second axes that shares the same x-axis\n",
    "\n",
    "    color = 'tab:blue'\n",
    "    ax2.set_ylabel('num parameters')  # we already handled the x-label with ax1\n",
    "    ax2.plot(x, size, color='b')\n",
    "    ax1.legend(['accuracy'], loc='lower left')\n",
    "    ax2.legend(['parameters'], loc='upper right')\n",
    "    #plt.xticks(list(range(0, len(x), 2)))\n",
    "    fig.tight_layout()  # otherwise the right y-label is slightly clipped\n",
    "    plt.savefig(path + f\"acc_model_size_epoch_{epoch}\")"
   ]
  },
  {
   "cell_type": "markdown",
   "id": "fa115537",
   "metadata": {},
   "source": [
    "Resstack 1: Resblock 1:  154240 Param  \n",
    "Resstack 1: Resblock 2:  205568 Param  \n",
    "Resstack 1: Resblock 3:  205568 Param  \n",
    "Resstack 2: Resblock 1:  222464 Param  \n",
    "Resstack 2: Resblock 2:  296448 Param  \n",
    "Resstack 2: Resblock 3:  296448 Param  \n",
    "Resstack 3: Resblock 1:  939937 Param  \n",
    "Resstack 3: Resblock 2: 1245729 Param  \n",
    "Resstack 3: Resblock 3: 1245729 Param  \n",
    "Resstack 4: Resblock 1: 3544064 Param  \n",
    "Resstack 4: Resblock 2: 4724736 Param  \n",
    "Resstack 4: Resblock 3: 4724736 Param  \n",
    "Sum: 17805667  \n",
    "DS Block 1:   4480  \n",
    "DS Block 2:  17664  \n",
    "DS Block 3:  70144  \n",
    "DS Block 4: 279552  \n",
    "ClassificationPath: 10794496  \n",
    "\n",
    "Total: 28,789,491"
   ]
  },
  {
   "cell_type": "code",
   "execution_count": 12,
   "id": "4cf0a08b",
   "metadata": {},
   "outputs": [],
   "source": [
    "def plot_train_process_for_all(path):\n",
    "    elements = os.listdir(path)\n",
    "    folders = filter(lambda elem: os.path.isdir(path + elem + \"/\"), elements)\n",
    "    for folder in folders:\n",
    "        plot_train_process_for_all(path + folder + \"/\")\n",
    "    if \"birdnet_final.pt\" in elements:\n",
    "        #plot_hist(path + \"birdnet_final.pt\", path + \"hist\")\n",
    "        #plot_train_phase(path + \"birdnet_final.pt\", path + \"train_phase\")\n",
    "        plot_distribution_layer_wise(path + \"birdnet_final.pt\", path + \"dist_layer_wise\")"
   ]
  },
  {
   "cell_type": "code",
   "execution_count": 13,
   "id": "9d8864ad",
   "metadata": {},
   "outputs": [],
   "source": [
    "def print_conv_layer_scaling_factors(name):\n",
    "    checkpoint = torch.load(name)\n",
    "    birdnet = model.BirdNet(filters=checkpoint['filters'])\n",
    "    birdnet = torch.nn.DataParallel(birdnet).cuda()\n",
    "    birdnet = birdnet.float()\n",
    "    birdnet.load_state_dict(checkpoint['model_state_dict'])\n",
    "\n",
    "    resblocks = []\n",
    "    ds_blocks = []\n",
    "    for resstack in birdnet.module.classifier:\n",
    "        if isinstance(resstack, model.ResStack):\n",
    "            for resblock in resstack.classifier:\n",
    "                if isinstance(resblock, model.Resblock): \n",
    "                    resblocks.append(resblock.W.item())\n",
    "                if isinstance(resblock, model.DownsamplingResBlock): \n",
    "                    ds_blocks.append(resblock.W.item())\n",
    "    zeros1 = [1,2,3,4,5,6,7,8,9,10,11,12]\n",
    "    zeros2 = [0,0,0,0]\n",
    "    fig=plt.figure()     \n",
    "    \n",
    "    \n",
    "    resblocks = np.array(resblocks)\n",
    "    ds_blocks = np.array(ds_blocks)\n",
    "    \n",
    "    print(\"Resblock variance:\" + str(np.var(resblocks)))\n",
    "    print(\"DSBlock variance:\" + str(np.var(ds_blocks)))\n",
    "    ax=fig.add_axes([0,0,1,1])\n",
    "    ax.scatter(zeros1, resblocks, color='r')\n",
    "    ax.scatter(zeros2, ds_blocks, color='b')\n",
    "    ax.set_xlabel('Grades Range')\n",
    "    ax.set_ylabel('Grades Scored')\n",
    "    ax.set_title('scatter plot')\n",
    "    plt.grid()\n",
    "    plt.show()"
   ]
  },
  {
   "cell_type": "code",
   "execution_count": 16,
   "id": "d4db9b5b",
   "metadata": {},
   "outputs": [
    {
     "ename": "TypeError",
     "evalue": "'float' object is not iterable",
     "output_type": "error",
     "traceback": [
      "\u001b[0;31m---------------------------------------------------------------------------\u001b[0m",
      "\u001b[0;31mTypeError\u001b[0m                                 Traceback (most recent call last)",
      "\u001b[0;32m<ipython-input-16-f1997a76b566>\u001b[0m in \u001b[0;36m<module>\u001b[0;34m\u001b[0m\n\u001b[0;32m----> 1\u001b[0;31m \u001b[0mplot_hist\u001b[0m\u001b[0;34m(\u001b[0m\u001b[0;34m\"/media/eddy/datasets/models/CentEuro/network_size/seed_20/size_2/birdnet_v13.pt\"\u001b[0m\u001b[0;34m)\u001b[0m\u001b[0;34m\u001b[0m\u001b[0;34m\u001b[0m\u001b[0m\n\u001b[0m",
      "\u001b[0;32m<ipython-input-15-8cf486c89ede>\u001b[0m in \u001b[0;36mplot_hist\u001b[0;34m(load_path, save_name, resolution, show)\u001b[0m\n\u001b[1;32m     12\u001b[0m     \u001b[0;32mfor\u001b[0m \u001b[0mkey\u001b[0m\u001b[0;34m,\u001b[0m \u001b[0mitem\u001b[0m \u001b[0;32min\u001b[0m \u001b[0mweights\u001b[0m\u001b[0;34m.\u001b[0m\u001b[0mitems\u001b[0m\u001b[0;34m(\u001b[0m\u001b[0;34m)\u001b[0m\u001b[0;34m:\u001b[0m\u001b[0;34m\u001b[0m\u001b[0;34m\u001b[0m\u001b[0m\n\u001b[1;32m     13\u001b[0m         \u001b[0;32mif\u001b[0m \u001b[0mre\u001b[0m\u001b[0;34m.\u001b[0m\u001b[0msearch\u001b[0m\u001b[0;34m(\u001b[0m\u001b[0mpattern_scaling_factor\u001b[0m\u001b[0;34m,\u001b[0m \u001b[0mkey\u001b[0m\u001b[0;34m)\u001b[0m\u001b[0;34m:\u001b[0m\u001b[0;34m\u001b[0m\u001b[0;34m\u001b[0m\u001b[0m\n\u001b[0;32m---> 14\u001b[0;31m             \u001b[0mscaling_factor\u001b[0m \u001b[0;34m+=\u001b[0m \u001b[0mtorch\u001b[0m\u001b[0;34m.\u001b[0m\u001b[0msqueeze\u001b[0m\u001b[0;34m(\u001b[0m\u001b[0mitem\u001b[0m\u001b[0;34m)\u001b[0m\u001b[0;34m.\u001b[0m\u001b[0mcpu\u001b[0m\u001b[0;34m(\u001b[0m\u001b[0;34m)\u001b[0m\u001b[0;34m.\u001b[0m\u001b[0mtolist\u001b[0m\u001b[0;34m(\u001b[0m\u001b[0;34m)\u001b[0m\u001b[0;34m\u001b[0m\u001b[0;34m\u001b[0m\u001b[0m\n\u001b[0m\u001b[1;32m     15\u001b[0m \u001b[0;34m\u001b[0m\u001b[0m\n\u001b[1;32m     16\u001b[0m     \u001b[0;32mfor\u001b[0m \u001b[0mkey\u001b[0m\u001b[0;34m,\u001b[0m \u001b[0mitem\u001b[0m \u001b[0;32min\u001b[0m \u001b[0mweights\u001b[0m\u001b[0;34m.\u001b[0m\u001b[0mitems\u001b[0m\u001b[0;34m(\u001b[0m\u001b[0;34m)\u001b[0m\u001b[0;34m:\u001b[0m\u001b[0;34m\u001b[0m\u001b[0;34m\u001b[0m\u001b[0m\n",
      "\u001b[0;31mTypeError\u001b[0m: 'float' object is not iterable"
     ]
    }
   ],
   "source": [
    "plot_hist(\"/media/eddy/datasets/models/CentEuro/network_size/seed_20/size_2/birdnet_v13.pt\")"
   ]
  },
  {
   "cell_type": "code",
   "execution_count": 16,
   "id": "1e77dc15",
   "metadata": {},
   "outputs": [
    {
     "name": "stdout",
     "output_type": "stream",
     "text": [
      "3840\n",
      "659\n",
      "Mean:0.3097513540254837\n",
      "Variance: 0.05931886214582403\n",
      "[0.90124458 0.89945322 0.970882   ... 0.17480481 0.34066623 0.44318891]\n"
     ]
    },
    {
     "data": {
      "image/png": "[encoded data removed]",
      "text/plain": [
       "<Figure size 432x288 with 1 Axes>"
      ]
     },
     "metadata": {
      "needs_background": "light"
     },
     "output_type": "display_data"
    }
   ],
   "source": [
    "plot_hist(\"/media/eddy/datasets/models/CentEuro/hyperparameters/delta05_gamma03/birdnet_v14.pt\")"
   ]
  },
  {
   "cell_type": "code",
   "execution_count": 17,
   "id": "a8a279a2",
   "metadata": {},
   "outputs": [
    {
     "name": "stdout",
     "output_type": "stream",
     "text": [
      "3840\n",
      "2777\n",
      "Mean:0.08750174869800195\n",
      "Variance: 0.031815306265454\n",
      "[ 9.09891546e-01  9.45469618e-01  8.57655644e-01 ... -5.94026269e-03\n",
      " -1.45876009e-04  1.28308469e-02]\n"
     ]
    },
    {
     "data": {
      "image/png": "[encoded data removed]",
      "text/plain": [
       "<Figure size 432x288 with 1 Axes>"
      ]
     },
     "metadata": {
      "needs_background": "light"
     },
     "output_type": "display_data"
    }
   ],
   "source": [
    "plot_hist(\"/media/eddy/datasets/models/CentEuro/hyperparameters/delta07_gamma03/birdnet_v17.pt\")"
   ]
  },
  {
   "cell_type": "code",
   "execution_count": 18,
   "id": "beec9b56",
   "metadata": {},
   "outputs": [
    {
     "name": "stdout",
     "output_type": "stream",
     "text": [
      "3840\n",
      "945\n",
      "Mean:0.22662709306371476\n",
      "Variance: 0.04359584866859524\n",
      "[0.84255809 0.85066992 0.93285453 ... 0.13884373 0.21753627 0.47096652]\n"
     ]
    },
    {
     "data": {
      "image/png": "[encoded data removed]",
      "text/plain": [
       "<Figure size 432x288 with 1 Axes>"
      ]
     },
     "metadata": {
      "needs_background": "light"
     },
     "output_type": "display_data"
    }
   ],
   "source": [
    "plot_hist(\"/media/eddy/datasets/models/CentEuro/baseline/sparsity/seed_10/birdnet_v22.pt\")"
   ]
  },
  {
   "cell_type": "code",
   "execution_count": 19,
   "id": "b12614ae",
   "metadata": {},
   "outputs": [],
   "source": [
    "checkpoint = torch.load(\"/media/eddy/datasets/models/CentEuro/network_size/seed_20/size_2/birdnet_v13.pt\")"
   ]
  },
  {
   "cell_type": "code",
   "execution_count": 20,
   "id": "a677c47b",
   "metadata": {},
   "outputs": [
    {
     "data": {
      "text/plain": [
       "[0.01907032181168057,\n",
       " 0.07389749702026222,\n",
       " 0.14421930870083433,\n",
       " 0.18831942789034564,\n",
       " 0.24791418355184744,\n",
       " 0.2789034564958284,\n",
       " 0.20858164481525626,\n",
       " 0.3218116805721097,\n",
       " 0.39809296781883197,\n",
       " 0.4171632896305125,\n",
       " 0.45887961859356374,\n",
       " 0.43146603098927294,\n",
       " 0.45887961859356374,\n",
       " 0.5196662693682956,\n",
       " 0.4696066746126341,\n",
       " 0.5601907032181168,\n",
       " 0.5983313468414779,\n",
       " 0.6066746126340882,\n",
       " 0.5887961859356377,\n",
       " 0.5983313468414779,\n",
       " 0.6257449344457687]"
      ]
     },
     "execution_count": 20,
     "metadata": {},
     "output_type": "execute_result"
    }
   ],
   "source": [
    "checkpoint['test_acc_list']"
   ]
  },
  {
   "cell_type": "code",
   "execution_count": 22,
   "id": "ce96df47",
   "metadata": {},
   "outputs": [
    {
     "name": "stdout",
     "output_type": "stream",
     "text": [
      "0.7210965435041716\n"
     ]
    },
    {
     "data": {
      "image/png": "[encoded data removed]",
      "text/plain": [
       "<Figure size 432x288 with 2 Axes>"
      ]
     },
     "metadata": {
      "needs_background": "light"
     },
     "output_type": "display_data"
    }
   ],
   "source": [
    "plot_train_phase_new(\"/media/eddy/datasets/models/CentEuro/pruned/seed_10/pruned_c30_b0_CURL_temp0.0_modeALL/birdnet_v3.pt\")"
   ]
  },
  {
   "cell_type": "code",
   "execution_count": 54,
   "id": "a364d06b",
   "metadata": {},
   "outputs": [],
   "source": [
    "def print_val_error_avg(load_path, save_name=\"\"):\n",
    "    checkpoints = []\n",
    "    for elem in load_path:\n",
    "        checkpoints.append(torch.load(elem))\n",
    "    val_errors = []\n",
    "    for checkpoint in checkpoints:\n",
    "        val_errors.append(np.array(checkpoint['test_acc_list'][:40]))\n",
    "    result = np.round(100*np.mean(val_errors, axis=0), 2)\n",
    "    \n",
    "    epochs = list(range(0, 100))\n",
    "    zipped = zip(epochs, result)\n",
    "    output = \"\"\n",
    "    for elem in zipped:\n",
    "        output += f\"({elem[0]}, {elem[1]}) \"\n",
    "    print(output)\n",
    "    "
   ]
  },
  {
   "cell_type": "code",
   "execution_count": 67,
   "id": "e9ae7caa",
   "metadata": {},
   "outputs": [
    {
     "name": "stdout",
     "output_type": "stream",
     "text": [
      "(0, 0.34) (1, 34.97) (2, 46.48) (3, 55.26) (4, 59.28) (5, 61.17) (6, 66.0) (7, 67.72) (8, 70.5) (9, 72.55) (10, 73.28) (11, 74.9) (12, 76.12) (13, 76.19) (14, 76.98) (15, 77.17) (16, 77.61) (17, 77.82) (18, 77.95) (19, 78.41) (20, 76.88) (21, 78.58) (22, 78.64) (23, 78.85) (24, 79.24) (25, 79.7) (26, 79.96) (27, 78.88) (28, 79.38) (29, 79.92) (30, 80.0) (31, 79.64) (32, 79.78) (33, 79.91) (34, 80.03) (35, 79.77) (36, 79.89) (37, 80.66) (38, 79.59) (39, 80.66) \n"
     ]
    }
   ],
   "source": [
    "print_val_error_avg([\"/media/eddy/datasets/models/BirdCLEF/sparsity/seed_10/birdnet_final.pt\", \n",
    "                     \"/media/eddy/datasets/models/BirdCLEF/sparsity/seed_20/birdnet_final.pt\",\n",
    "                     \"/media/eddy/datasets/models/BirdCLEF/sparsity/seed_30/birdnet_final.pt\"])"
   ]
  },
  {
   "cell_type": "code",
   "execution_count": 58,
   "id": "8edfe838",
   "metadata": {},
   "outputs": [
    {
     "name": "stdout",
     "output_type": "stream",
     "text": [
      "(0, 0.25) (1, 38.58) (2, 52.12) (3, 60.74) (4, 65.85) (5, 67.88) \n"
     ]
    }
   ],
   "source": [
    "print_val_error_avg([\"/media/eddy/datasets/models/BirdCLEF/pruned/seed_10/pruned_c30_b0_MIN_temp0.0_modeALL/birdnet_final.pt\", \n",
    "                     \"/media/eddy/datasets/models/BirdCLEF/pruned/seed_20/pruned_c30_b0_MIN_temp0.0_modeALL/birdnet_final.pt\",\n",
    "                     \"/media/eddy/datasets/models/BirdCLEF/pruned/seed_30/pruned_c30_b0_MIN_temp0.0_modeALL/birdnet_final.pt\"])"
   ]
  },
  {
   "cell_type": "code",
   "execution_count": 59,
   "id": "e63cf49e",
   "metadata": {},
   "outputs": [
    {
     "name": "stdout",
     "output_type": "stream",
     "text": [
      "(0, 0.25) (1, 48.44) (2, 61.89) (3, 67.15) (4, 71.05) (5, 73.05) \n"
     ]
    }
   ],
   "source": [
    "print_val_error_avg([\"/media/eddy/datasets/models/BirdCLEF/pruned/seed_10/pruned_c30_b0_EVENLY_temp0.0_modeALL/birdnet_final.pt\", \n",
    "                     \"/media/eddy/datasets/models/BirdCLEF/pruned/seed_20/pruned_c30_b0_EVENLY_temp0.0_modeALL/birdnet_final.pt\",\n",
    "                     \"/media/eddy/datasets/models/BirdCLEF/pruned/seed_30/pruned_c30_b0_EVENLY_temp0.0_modeALL/birdnet_final.pt\"])"
   ]
  },
  {
   "cell_type": "code",
   "execution_count": 60,
   "id": "f4d6e242",
   "metadata": {},
   "outputs": [
    {
     "name": "stdout",
     "output_type": "stream",
     "text": [
      "(0, 78.36) (1, 80.8) (2, 79.53) (3, 81.09) (4, 81.14) (5, 81.05) \n"
     ]
    }
   ],
   "source": [
    "print_val_error_avg([\"/media/eddy/datasets/models/BirdCLEF/pruned/seed_10/pruned_c30_b0_NO_PADD_temp0.0_modeALL/birdnet_final.pt\", \n",
    "                     \"/media/eddy/datasets/models/BirdCLEF/pruned/seed_20/pruned_c30_b0_NO_PADD_temp0.0_modeALL/birdnet_final.pt\",\n",
    "                     \"/media/eddy/datasets/models/BirdCLEF/pruned/seed_30/pruned_c30_b0_NO_PADD_temp0.0_modeALL/birdnet_final.pt\"])"
   ]
  },
  {
   "cell_type": "code",
   "execution_count": 68,
   "id": "3337ae62",
   "metadata": {},
   "outputs": [
    {
     "name": "stdout",
     "output_type": "stream",
     "text": [
      "(0, 24.6) (1, 78.94) (2, 78.96) (3, 79.57) (4, 79.18) (5, 80.22) \n"
     ]
    }
   ],
   "source": [
    "print_val_error_avg([\"/media/eddy/datasets/models/BirdCLEF/pruned/seed_10/pruned_c30_b0_CURL_temp0.0_modeALL/birdnet_final.pt\", \n",
    "                     \"/media/eddy/datasets/models/BirdCLEF/pruned/seed_20/pruned_c30_b0_CURL_temp0.0_modeALL/birdnet_final.pt\",\n",
    "                     \"/media/eddy/datasets/models/BirdCLEF/pruned/seed_30/pruned_c30_b0_CURL_temp0.0_modeALL/birdnet_final.pt\"])"
   ]
  },
  {
   "cell_type": "code",
   "execution_count": 65,
   "id": "c68d1e35",
   "metadata": {},
   "outputs": [
    {
     "name": "stdout",
     "output_type": "stream",
     "text": [
      "(0, 5.94) (1, 73.94) (2, 76.08) (3, 76.69) (4, 77.27) (5, 78.04) \n"
     ]
    }
   ],
   "source": [
    "print_val_error_avg([\"/media/eddy/datasets/models/BirdCLEF/pruned/seed_10/pruned_c50_b0_CURL_temp0.0_modeALL/birdnet_final.pt\", \n",
    "                     \"/media/eddy/datasets/models/BirdCLEF/pruned/seed_20/pruned_c50_b0_CURL_temp0.0_modeALL/birdnet_final.pt\",\n",
    "                     \"/media/eddy/datasets/models/BirdCLEF/pruned/seed_30/pruned_c50_b0_CURL_temp0.0_modeALL/birdnet_final.pt\"])"
   ]
  },
  {
   "cell_type": "code",
   "execution_count": null,
   "id": "d6c5d74b",
   "metadata": {},
   "outputs": [],
   "source": []
  },
  {
   "cell_type": "code",
   "execution_count": null,
   "id": "c9f4476e",
   "metadata": {},
   "outputs": [],
   "source": []
  },
  {
   "cell_type": "code",
   "execution_count": null,
   "id": "443ba94d",
   "metadata": {},
   "outputs": [],
   "source": []
  },
  {
   "cell_type": "code",
   "execution_count": null,
   "id": "f40c23c5",
   "metadata": {},
   "outputs": [],
   "source": []
  },
  {
   "cell_type": "code",
   "execution_count": null,
   "id": "d00b7c9d",
   "metadata": {},
   "outputs": [],
   "source": []
  },
  {
   "cell_type": "code",
   "execution_count": null,
   "id": "9756786b",
   "metadata": {},
   "outputs": [],
   "source": []
  },
  {
   "cell_type": "code",
   "execution_count": null,
   "id": "84762389",
   "metadata": {},
   "outputs": [],
   "source": []
  },
  {
   "cell_type": "code",
   "execution_count": null,
   "id": "61f45d73",
   "metadata": {},
   "outputs": [],
   "source": []
  },
  {
   "cell_type": "code",
   "execution_count": 69,
   "id": "f88ea9d7",
   "metadata": {},
   "outputs": [
    {
     "name": "stdout",
     "output_type": "stream",
     "text": [
      "(0, 5.94) (1, 73.94) (2, 76.08) (3, 76.69) (4, 77.27) (5, 78.04) \n"
     ]
    }
   ],
   "source": [
    "print_val_error_avg([\"/media/eddy/datasets/models/BirdCLEF/pruned/seed_10/pruned_c50_b0_CURL_temp0.0_modeALL/birdnet_final.pt\", \n",
    "                     \"/media/eddy/datasets/models/BirdCLEF/pruned/seed_20/pruned_c50_b0_CURL_temp0.0_modeALL/birdnet_final.pt\",\n",
    "                     \"/media/eddy/datasets/models/BirdCLEF/pruned/seed_30/pruned_c50_b0_CURL_temp0.0_modeALL/birdnet_final.pt\"])"
   ]
  },
  {
   "cell_type": "code",
   "execution_count": 70,
   "id": "bff0dad4",
   "metadata": {},
   "outputs": [
    {
     "name": "stdout",
     "output_type": "stream",
     "text": [
      "(0, 0.99) (1, 19.29) (2, 31.41) (3, 37.03) (4, 45.8) (5, 50.24) \n"
     ]
    }
   ],
   "source": [
    "print_val_error_avg([\"/media/eddy/datasets/models/BirdCLEF/pruned/seed_10/pruned_c50_b0_MIN_temp0.0_modeALL/birdnet_final.pt\", \n",
    "                     \"/media/eddy/datasets/models/BirdCLEF/pruned/seed_20/pruned_c50_b0_MIN_temp0.0_modeALL/birdnet_final.pt\",\n",
    "                     \"/media/eddy/datasets/models/BirdCLEF/pruned/seed_30/pruned_c50_b0_MIN_temp0.0_modeALL/birdnet_final.pt\"])"
   ]
  },
  {
   "cell_type": "code",
   "execution_count": 71,
   "id": "2606c919",
   "metadata": {},
   "outputs": [
    {
     "name": "stdout",
     "output_type": "stream",
     "text": [
      "(0, 1.92) (1, 37.14) (2, 51.45) (3, 58.75) (4, 62.98) (5, 66.77) \n"
     ]
    }
   ],
   "source": [
    "print_val_error_avg([\"/media/eddy/datasets/models/BirdCLEF/pruned/seed_10/pruned_c50_b0_EVENLY_temp0.0_modeALL/birdnet_final.pt\", \n",
    "                     \"/media/eddy/datasets/models/BirdCLEF/pruned/seed_20/pruned_c50_b0_EVENLY_temp0.0_modeALL/birdnet_final.pt\",\n",
    "                     \"/media/eddy/datasets/models/BirdCLEF/pruned/seed_30/pruned_c50_b0_EVENLY_temp0.0_modeALL/birdnet_final.pt\"])"
   ]
  },
  {
   "cell_type": "code",
   "execution_count": 72,
   "id": "07f2d542",
   "metadata": {},
   "outputs": [
    {
     "name": "stdout",
     "output_type": "stream",
     "text": [
      "(0, 65.28) (1, 80.6) (2, 80.85) (3, 80.8) (4, 80.7) (5, 81.09) \n"
     ]
    }
   ],
   "source": [
    "print_val_error_avg([\"/media/eddy/datasets/models/BirdCLEF/pruned/seed_10/pruned_c50_b0_NO_PADD_temp0.0_modeALL/birdnet_final.pt\", \n",
    "                     \"/media/eddy/datasets/models/BirdCLEF/pruned/seed_20/pruned_c50_b0_NO_PADD_temp0.0_modeALL/birdnet_final.pt\",\n",
    "                     \"/media/eddy/datasets/models/BirdCLEF/pruned/seed_30/pruned_c50_b0_NO_PADD_temp0.0_modeALL/birdnet_final.pt\"])"
   ]
  },
  {
   "cell_type": "code",
   "execution_count": 52,
   "id": "942e1391",
   "metadata": {},
   "outputs": [
    {
     "name": "stdout",
     "output_type": "stream",
     "text": [
      "[0.01907032181168057, 0.09535160905840286, 0.2061978545887962, 0.17044100119189512, 0.23361144219308702, 0.2789034564958284, 0.3170441001191895, 0.3230035756853397, 0.42550655542312277, 0.41477949940405245, 0.48510131108462456, 0.33492252681764006, 0.4696066746126341, 0.5494636471990465, 0.5625744934445769, 0.5506555423122765, 0.5971394517282479, 0.5721096543504172, 0.6436233611442194, 0.6257449344457687, 0.6460071513706794, 0.6448152562574494, 0.6626936829558999, 0.6555423122765197, 0.6841477949940405, 0.6400476758045291, 0.6698450536352801, 0.6912991656734208, 0.6972586412395709, 0.6686531585220501, 0.6483909415971395, 0.6901072705601907, 0.6817640047675805, 0.6972586412395709, 0.698450536352801, 0.6817640047675805, 0.6769964243146603, 0.6698450536352801, 0.6924910607866508, 0.6972586412395709, 0.6698450536352801, 0.6841477949940405, 0.7258641239570918, 0.6710369487485102, 0.699642431466031, 0.7151370679380215, 0.6281287246722288, 0.700834326579261, 0.6769964243146603, 0.6960667461263409, 0.6948748510131109, 0.6889153754469607, 0.6769964243146603]\n"
     ]
    }
   ],
   "source": [
    "checkpoint = torch.load(\"/media/eddy/datasets/models/CentEuro/baseline/sparsity/seed_30/birdnet_final.pt\")\n",
    "print(checkpoint['test_acc_list'])\n"
   ]
  },
  {
   "cell_type": "code",
   "execution_count": 89,
   "id": "d921dfaf",
   "metadata": {},
   "outputs": [],
   "source": [
    "def plot_flops():\n",
    "    x = [0.7, 0.725, 0.75, 0.775, 0.8]\n",
    "    y = [420727289, 367566449, 333339161, 277577633, 234779609]\n",
    "    \n",
    "\n",
    "    fig, ax1 = plt.subplots()\n",
    "    \n",
    "    plt.grid(axis='both')\n",
    "    color = 'tab:red'\n",
    "    ax1.set_xlabel('epochs')\n",
    "    ax1.set_ylabel('accuracy')\n",
    "    ax1.plot(x, y, color='g')\n",
    "    ax1.tick_params(axis='y')\n",
    "\n",
    "\n",
    "    color = 'tab:blue'\n",
    "        #ax2.plot(x[1:], train_loss, color='y')\n",
    "\n",
    "    #plt.xticks(list(range(0, len(x), 2)))\n",
    "    ax1.legend(['test accuracy', 'train accuracy'])\n",
    "    fig.tight_layout()  # otherwise the right y-label is slightly clipped\n",
    "    #plt.show()\n"
   ]
  },
  {
   "cell_type": "code",
   "execution_count": 90,
   "id": "8633d806",
   "metadata": {},
   "outputs": [
    {
     "data": {
      "image/png": "[encoded data removed]",
      "text/plain": [
       "<Figure size 432x288 with 1 Axes>"
      ]
     },
     "metadata": {
      "needs_background": "light"
     },
     "output_type": "display_data"
    }
   ],
   "source": [
    "plot_flops()"
   ]
  },
  {
   "cell_type": "code",
   "execution_count": null,
   "id": "68c0ae09",
   "metadata": {},
   "outputs": [],
   "source": []
  },
  {
   "cell_type": "code",
   "execution_count": 18,
   "id": "3ccb757a",
   "metadata": {},
   "outputs": [
    {
     "name": "stdout",
     "output_type": "stream",
     "text": [
      "Mean:0,558006778201184\n",
      "Variance: 0,05850307185058617\n"
     ]
    },
    {
     "data": {
      "image/png": "[encoded data removed]",
      "text/plain": [
       "<Figure size 432x288 with 1 Axes>"
      ]
     },
     "metadata": {
      "needs_background": "light"
     },
     "output_type": "display_data"
    }
   ],
   "source": [
    "plot_hist(\"/media/eddy/datasets/models/CentEuro/hyperparameters/seed_10/delta03_gamma03/birdnet_v14.pt\")"
   ]
  },
  {
   "cell_type": "code",
   "execution_count": 19,
   "id": "488912ef",
   "metadata": {},
   "outputs": [
    {
     "name": "stdout",
     "output_type": "stream",
     "text": [
      "Mean:0,6731561678490834\n",
      "Variance: 0,028338681474182618\n"
     ]
    },
    {
     "data": {
      "image/png": "[encoded data removed]",
      "text/plain": [
       "<Figure size 432x288 with 1 Axes>"
      ]
     },
     "metadata": {
      "needs_background": "light"
     },
     "output_type": "display_data"
    }
   ],
   "source": [
    "plot_hist(\"/media/eddy/datasets/models/CentEuro/hyperparameters/seed_20/delta03_gamma03/birdnet_v14.pt\")"
   ]
  },
  {
   "cell_type": "code",
   "execution_count": 36,
   "id": "4fb59f69",
   "metadata": {},
   "outputs": [
    {
     "name": "stdout",
     "output_type": "stream",
     "text": [
      "Mean:0,3528143039587084\n",
      "Variance: 0,06973572312210764\n"
     ]
    },
    {
     "data": {
      "image/png": "[encoded data removed]",
      "text/plain": [
       "<Figure size 432x288 with 1 Axes>"
      ]
     },
     "metadata": {
      "needs_background": "light"
     },
     "output_type": "display_data"
    }
   ],
   "source": [
    "plot_hist(\"/media/eddy/datasets/models/CentEuro/hyperparameters/seed_30/delta07_gamma07/birdnet_v6.pt\")"
   ]
  },
  {
   "cell_type": "code",
   "execution_count": null,
   "id": "ade107a2",
   "metadata": {},
   "outputs": [],
   "source": []
  },
  {
   "cell_type": "code",
   "execution_count": null,
   "id": "c17acf4a",
   "metadata": {},
   "outputs": [],
   "source": [
    "def plot_var(load_paths, save_name=\"\", resolution=50, show=True):\n",
    "    checkpoint = torch.load(load_path)\n",
    "    weights = checkpoint['model_state_dict']\n",
    "    pattern_bn_3 = \"module\\.classifier\\.[0-9]+\\.classifier\\.[0-9]+\\.classifier\\.3+\\.weight\"\n",
    "    pattern_bn_7 = \"module\\.classifier\\.[0-9]+\\.classifier\\.[0-9]+\\.classifier\\.7+\\.weight\"\n",
    "    pattern_ds_1 = \"module\\.classifier\\.[0-9]+\\.classifier\\.[0-9]+\\.classifierPath\\.1+\\.weight\"\n",
    "    pattern_ds_4 = \"module\\.classifier\\.[0-9]+\\.classifier\\.[0-9]+\\.classifierPath\\.4+\\.weight\" \n",
    "    pattern_ds_0 = \"module\\.classifier\\.[0-9]+\\.classifier\\.[0-9]+\\.batchnorm\\.0+\\.weight\"\n",
    "    values = []\n",
    "    \n",
    "    for key, item in weights.items():\n",
    "        bn_3 = re.search(pattern_bn_3, key)\n",
    "        bn_7 = re.search(pattern_bn_7, key)\n",
    "        ds_0 = re.search(pattern_ds_0, key)\n",
    "        ds_1 = re.search(pattern_ds_1, key)\n",
    "        ds_4 = re.search(pattern_ds_4, key)\n",
    "\n",
    "        if bn_3 or bn_7 or ds_1 or ds_4 or ds_0:\n",
    "            values += torch.squeeze(item).cpu().tolist()\n",
    "    values = np.array(values)\n",
    "    #print(len(values))\n",
    "    #print(len(list(filter(lambda i: i < 0.05, values))))\n",
    "    print(\"Mean:\" + str(np.mean(values)).replace('.', ','))\n",
    "    print(\"Variance: \" + str(np.var(values)).replace('.', ','))\n",
    "    #print(values)\n",
    "    plt.hist(values, resolution)\n",
    "    plt.grid()\n",
    "    if save_name != \"\":\n",
    "        plt.savefig(save_name)\n",
    "    if show:\n",
    "        plt.show()"
   ]
  },
  {
   "cell_type": "code",
   "execution_count": null,
   "id": "ab3241f0",
   "metadata": {},
   "outputs": [],
   "source": []
  },
  {
   "cell_type": "code",
   "execution_count": null,
   "id": "0b3dde71",
   "metadata": {},
   "outputs": [],
   "source": []
  },
  {
   "cell_type": "code",
   "execution_count": null,
   "id": "94c8a356",
   "metadata": {},
   "outputs": [],
   "source": []
  },
  {
   "cell_type": "code",
   "execution_count": null,
   "id": "7cae50fd",
   "metadata": {},
   "outputs": [],
   "source": []
  },
  {
   "cell_type": "code",
   "execution_count": null,
   "id": "6380b9f4",
   "metadata": {},
   "outputs": [],
   "source": []
  },
  {
   "cell_type": "code",
   "execution_count": null,
   "id": "2c731601",
   "metadata": {},
   "outputs": [],
   "source": []
  },
  {
   "cell_type": "code",
   "execution_count": null,
   "id": "e27f8f44",
   "metadata": {},
   "outputs": [],
   "source": []
  },
  {
   "cell_type": "code",
   "execution_count": null,
   "id": "494af6cf",
   "metadata": {},
   "outputs": [],
   "source": []
  },
  {
   "cell_type": "code",
   "execution_count": null,
   "id": "caa4c787",
   "metadata": {},
   "outputs": [],
   "source": []
  },
  {
   "cell_type": "code",
   "execution_count": null,
   "id": "c70c9dc6",
   "metadata": {},
   "outputs": [],
   "source": []
  }
 ],
 "metadata": {
  "kernelspec": {
   "display_name": "Python 3",
   "language": "python",
   "name": "python3"
  },
  "language_info": {
   "codemirror_mode": {
    "name": "ipython",
    "version": 3
   },
   "file_extension": ".py",
   "mimetype": "text/x-python",
   "name": "python",
   "nbconvert_exporter": "python",
   "pygments_lexer": "ipython3",
   "version": "3.8.8"
  }
 },
 "nbformat": 4,
 "nbformat_minor": 5
}
