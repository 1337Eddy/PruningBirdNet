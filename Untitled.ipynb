{
 "cells": [
  {
   "cell_type": "code",
   "execution_count": 1,
   "id": "c15bd007",
   "metadata": {},
   "outputs": [],
   "source": [
    "import os \n",
    "import matplotlib.pyplot as plt\n",
    "import numpy as np\n",
    "import torch\n",
    "import re\n",
    "from torchsummary import summary\n",
    "import model"
   ]
  },
  {
   "cell_type": "code",
   "execution_count": 2,
   "id": "f1bfda99",
   "metadata": {},
   "outputs": [],
   "source": [
    "def plot_train_phase(load_path, save_name=\"\"):\n",
    "    checkpoint = torch.load(load_path)\n",
    "    test_acc = np.array(checkpoint['test_acc_list'])\n",
    "    train_acc = np.array(checkpoint['train_acc_list'])\n",
    "    test_loss_subdivision = np.array(checkpoint['test_loss_list'])\n",
    "    train_loss_subdivision = np.array(checkpoint['train_loss_list'])    \n",
    "    \n",
    "    test_loss = [x[0] for x in test_loss_subdivision]\n",
    "    test_loss_block = [x[1] for x in test_loss_subdivision]\n",
    "    test_loss_channel = [x[2] for x in test_loss_subdivision]\n",
    "    test_loss_acc = [x[3] for x in test_loss_subdivision]\n",
    "    \n",
    "    train_loss = [x[0] for x in train_loss_subdivision]\n",
    "    train_loss_block = [x[1] for x in train_loss_subdivision]\n",
    "    train_loss_channel = [x[2] for x in train_loss_subdivision]\n",
    "    train_loss_acc = [x[3] for x in train_loss_subdivision]\n",
    "    \n",
    "    \n",
    "    x = np.array(list(range(0, len(test_acc))))\n",
    "\n",
    "    print(np.max(test_acc))\n",
    "    fig, ax1 = plt.subplots()\n",
    "    \n",
    "    plt.grid(axis='both')\n",
    "    color = 'tab:red'\n",
    "    ax1.set_xlabel('epochs')\n",
    "    ax1.set_ylabel('accuracy')\n",
    "    if len(train_acc) == len(x):\n",
    "        ax1.plot(x, test_acc, color='g')\n",
    "        #ax1.plot(x, train_acc, color='r')\n",
    "    else:\n",
    "        ax1.plot(x, test_acc, color='g')\n",
    "        #ax1.plot(x[1:], train_acc, color='r')\n",
    "    ax1.tick_params(axis='y')\n",
    "\n",
    "    ax2 = ax1.twinx()  # instantiate a second axes that shares the same x-axis\n",
    "\n",
    "    color = 'tab:blue'\n",
    "    ax2.set_ylabel('loss')  # we already handled the x-label with ax1\n",
    "    if len(train_loss) == len(x):\n",
    "        ax2.plot(x, test_loss, color='b')\n",
    "        ax2.plot(x, train_loss, color='y')\n",
    "    else:\n",
    "        ax2.plot(x, test_loss, color='b')\n",
    "        ax2.plot(x, test_loss_block, color='k')\n",
    "        ax2.plot(x, test_loss_channel, color='m')\n",
    "        ax2.plot(x, test_loss_acc, color='c')\n",
    "        #ax2.plot(x[1:], train_loss, color='y')\n",
    "    ax2.tick_params(axis='y')\n",
    "\n",
    "    #plt.xticks(list(range(0, len(x), 2)))\n",
    "    ax1.legend(['test accuracy', 'train accuracy'])\n",
    "    ax2.legend(['test loss', 'test loss block','test loss channel','test loss acc','train loss'])\n",
    "    fig.tight_layout()  # otherwise the right y-label is slightly clipped\n",
    "    if save_name:\n",
    "        plt.savefig(save_name)\n",
    "    #plt.show()\n"
   ]
  },
  {
   "cell_type": "code",
   "execution_count": null,
   "id": "0b810955",
   "metadata": {},
   "outputs": [],
   "source": []
  },
  {
   "cell_type": "code",
   "execution_count": 3,
   "id": "407b8a22",
   "metadata": {},
   "outputs": [],
   "source": [
    "def get_distribution(path):\n",
    "    classes = os.listdir(path + \"test/\")\n",
    "    class_dict = {}\n",
    "    for elem in classes:\n",
    "        class_dict[elem] = len(list(filter(lambda x: \".wav\" in x or \".ogg\" in x, os.listdir(path + \"test/\" + elem + \"/\"))))\n",
    "        class_dict[elem] += len(list(filter(lambda x: \".wav\" in x or \".ogg\" in x, os.listdir(path + \"train/\" + elem + \"/\"))))\n",
    "        class_dict[elem] += len(list(filter(lambda x: \".wav\" in x or \".ogg\" in x, os.listdir(path + \"val/\" + elem + \"/\"))))\n",
    "    return class_dict    "
   ]
  },
  {
   "cell_type": "code",
   "execution_count": 4,
   "id": "72c3ee10",
   "metadata": {},
   "outputs": [],
   "source": [
    "cent_euro = get_distribution(\"/media/eddy/bachelor-arbeit/PruningBirdNet/1dataset/1data/calls/\")"
   ]
  },
  {
   "cell_type": "code",
   "execution_count": 5,
   "id": "07ce4d35",
   "metadata": {},
   "outputs": [],
   "source": [
    "birdclef = get_distribution(\"/media/eddy/datasets/birdclef_small/\")"
   ]
  },
  {
   "cell_type": "code",
   "execution_count": 6,
   "id": "f09c7a7c",
   "metadata": {},
   "outputs": [
    {
     "data": {
      "image/png": "[encoded data removed]",
      "text/plain": [
       "<Figure size 432x288 with 1 Axes>"
      ]
     },
     "metadata": {
      "needs_background": "light"
     },
     "output_type": "display_data"
    }
   ],
   "source": [
    "plt.hist(list(sorted(cent_euro.values())),20)\n",
    "plt.grid()\n",
    "#if save_name != \"\":\n",
    "#    plt.savefig(save_name)\n",
    "\n",
    "plt.xlabel(\"Number Samples\")\n",
    "plt.ylabel(\"Number Classes\")\n",
    "plt.savefig(\"/media/eddy/7A9B-14DF/Dokumente/Studium/Vorlesungen/BA-10_SS22/Bachelor Arbeit/Bilder/cent_euro_dist\")\n",
    "plt.show()"
   ]
  },
  {
   "cell_type": "code",
   "execution_count": 7,
   "id": "a4d1d239",
   "metadata": {},
   "outputs": [
    {
     "data": {
      "image/png": "[encoded data removed]",
      "text/plain": [
       "<Figure size 432x288 with 1 Axes>"
      ]
     },
     "metadata": {
      "needs_background": "light"
     },
     "output_type": "display_data"
    }
   ],
   "source": [
    "plt.hist(list(sorted(birdclef.values())),38)\n",
    "plt.grid()\n",
    "#if save_name != \"\":\n",
    "#    \n",
    "plt.xlabel(\"Number Samples\")\n",
    "plt.ylabel(\"Number Classes\")\n",
    "plt.savefig(\"/media/eddy/7A9B-14DF/Dokumente/Studium/Vorlesungen/BA-10_SS22/Bachelor Arbeit/Bilder/birdclef_dist\")\n",
    "plt.show()"
   ]
  },
  {
   "cell_type": "code",
   "execution_count": null,
   "id": "69393ee0",
   "metadata": {},
   "outputs": [],
   "source": []
  },
  {
   "cell_type": "code",
   "execution_count": null,
   "id": "cee12427",
   "metadata": {},
   "outputs": [],
   "source": []
  },
  {
   "cell_type": "code",
   "execution_count": null,
   "id": "c274c438",
   "metadata": {},
   "outputs": [],
   "source": []
  },
  {
   "cell_type": "code",
   "execution_count": 27,
   "id": "b8d1b05c",
   "metadata": {},
   "outputs": [],
   "source": [
    "def plot_hist(load_path, save_name=\"\", resolution=50, show=True):\n",
    "    \n",
    "    values = []\n",
    "    for elem in load_path:\n",
    "        checkpoint = torch.load(elem)\n",
    "        weights = checkpoint['model_state_dict']\n",
    "        pattern_bn_3 = \"module\\.classifier\\.[0-9]+\\.classifier\\.[0-9]+\\.classifier\\.3+\\.weight\"\n",
    "        pattern_bn_7 = \"module\\.classifier\\.[0-9]+\\.classifier\\.[0-9]+\\.classifier\\.7+\\.weight\"\n",
    "        pattern_ds_1 = \"module\\.classifier\\.[0-9]+\\.classifier\\.[0-9]+\\.classifierPath\\.1+\\.weight\"\n",
    "        pattern_ds_4 = \"module\\.classifier\\.[0-9]+\\.classifier\\.[0-9]+\\.classifierPath\\.4+\\.weight\" \n",
    "        pattern_ds_0 = \"module\\.classifier\\.[0-9]+\\.classifier\\.[0-9]+\\.batchnorm\\.0+\\.weight\"\n",
    "    \n",
    "        for key, item in weights.items():\n",
    "            bn_3 = re.search(pattern_bn_3, key)\n",
    "            bn_7 = re.search(pattern_bn_7, key)\n",
    "            ds_0 = re.search(pattern_ds_0, key)\n",
    "            ds_1 = re.search(pattern_ds_1, key)\n",
    "            ds_4 = re.search(pattern_ds_4, key)\n",
    "\n",
    "            if bn_3 or bn_7 or ds_1 or ds_4 or ds_0:\n",
    "                values += torch.squeeze(item).cpu().tolist()\n",
    "    values = np.array(values)\n",
    "    #print(len(values))\n",
    "    #print(len(list(filter(lambda i: i < 0.05, values))))\n",
    "    print(\"Mean:\" + str(np.mean(values)).replace('.', ','))\n",
    "    print(\"Variance: \" + str(np.var(values)).replace('.', ','))\n",
    "    #print(values)\n",
    "    plt.hist(values, resolution)\n",
    "    plt.grid()\n",
    "    plt.xlabel(\"channel scaling factor value\")\n",
    "    plt.ylabel(\"number occur\")\n",
    "    if save_name != \"\":\n",
    "        plt.savefig(save_name)\n",
    "    if show:\n",
    "        plt.show()"
   ]
  },
  {
   "cell_type": "code",
   "execution_count": 28,
   "id": "c0ac6114",
   "metadata": {},
   "outputs": [
    {
     "name": "stdout",
     "output_type": "stream",
     "text": [
      "Mean:0,6275338921041593\n",
      "Variance: 0,04331025606583129\n"
     ]
    },
    {
     "data": {
      "image/png": "[encoded data removed]",
      "text/plain": [
       "<Figure size 432x288 with 1 Axes>"
      ]
     },
     "metadata": {
      "needs_background": "light"
     },
     "output_type": "display_data"
    }
   ],
   "source": [
    "plot_hist([\"/media/eddy/datasets/models/CentEuro/hyperparameters/seed_10/delta03_gamma03/birdnet_v15.pt\", \n",
    "          \"/media/eddy/datasets/models/CentEuro/hyperparameters/seed_20/delta03_gamma03/birdnet_v14.pt\",\n",
    "          \"/media/eddy/datasets/models/CentEuro/hyperparameters/seed_30/delta03_gamma03/birdnet_v11.pt\"], \n",
    "         \"/media/eddy/7A9B-14DF/Dokumente/Studium/Vorlesungen/BA-10_SS22/Bachelor Arbeit/Bilder/matplotlib/d03_g03\")"
   ]
  },
  {
   "cell_type": "code",
   "execution_count": 29,
   "id": "a1437f03",
   "metadata": {},
   "outputs": [
    {
     "name": "stdout",
     "output_type": "stream",
     "text": [
      "Mean:0,7425708632056032\n",
      "Variance: 0,023255957583030243\n"
     ]
    },
    {
     "data": {
      "image/png": "[encoded data removed]",
      "text/plain": [
       "<Figure size 432x288 with 1 Axes>"
      ]
     },
     "metadata": {
      "needs_background": "light"
     },
     "output_type": "display_data"
    }
   ],
   "source": [
    "plot_hist([\"/media/eddy/datasets/models/CentEuro/hyperparameters/seed_10/delta03_gamma05/birdnet_v15.pt\", \n",
    "          \"/media/eddy/datasets/models/CentEuro/hyperparameters/seed_20/delta03_gamma05/birdnet_v15.pt\",\n",
    "          \"/media/eddy/datasets/models/CentEuro/hyperparameters/seed_30/delta03_gamma05/birdnet_v15.pt\"], \n",
    "         \"/media/eddy/7A9B-14DF/Dokumente/Studium/Vorlesungen/BA-10_SS22/Bachelor Arbeit/Bilder/matplotlib/d03_g05\")"
   ]
  },
  {
   "cell_type": "code",
   "execution_count": 30,
   "id": "f19629ca",
   "metadata": {},
   "outputs": [
    {
     "name": "stdout",
     "output_type": "stream",
     "text": [
      "Mean:0,8278914289106171\n",
      "Variance: 0,018999532102262014\n"
     ]
    },
    {
     "data": {
      "image/png": "[encoded data removed]",
      "text/plain": [
       "<Figure size 432x288 with 1 Axes>"
      ]
     },
     "metadata": {
      "needs_background": "light"
     },
     "output_type": "display_data"
    }
   ],
   "source": [
    "plot_hist([\"/media/eddy/datasets/models/CentEuro/hyperparameters/seed_10/delta03_gamma07/birdnet_v14.pt\", \n",
    "          \"/media/eddy/datasets/models/CentEuro/hyperparameters/seed_20/delta03_gamma07/birdnet_v12.pt\",\n",
    "          \"/media/eddy/datasets/models/CentEuro/hyperparameters/seed_30/delta03_gamma07/birdnet_v13.pt\"], \n",
    "         \"/media/eddy/7A9B-14DF/Dokumente/Studium/Vorlesungen/BA-10_SS22/Bachelor Arbeit/Bilder/matplotlib/d03_g07\")"
   ]
  },
  {
   "cell_type": "code",
   "execution_count": 31,
   "id": "72e5ade1",
   "metadata": {},
   "outputs": [
    {
     "name": "stdout",
     "output_type": "stream",
     "text": [
      "Mean:0,3663721780973832\n",
      "Variance: 0,05640948554118321\n"
     ]
    },
    {
     "data": {
      "image/png": "[encoded data removed]",
      "text/plain": [
       "<Figure size 432x288 with 1 Axes>"
      ]
     },
     "metadata": {
      "needs_background": "light"
     },
     "output_type": "display_data"
    }
   ],
   "source": [
    "plot_hist([\"/media/eddy/datasets/models/CentEuro/hyperparameters/seed_10/delta05_gamma03/birdnet_v14.pt\", \n",
    "          \"/media/eddy/datasets/models/CentEuro/hyperparameters/seed_20/delta05_gamma03/birdnet_v13.pt\",\n",
    "          \"/media/eddy/datasets/models/CentEuro/hyperparameters/seed_30/delta05_gamma03/birdnet_v12.pt\"], \n",
    "         \"/media/eddy/7A9B-14DF/Dokumente/Studium/Vorlesungen/BA-10_SS22/Bachelor Arbeit/Bilder/matplotlib/d05_g03\")"
   ]
  },
  {
   "cell_type": "code",
   "execution_count": 32,
   "id": "6d3b492c",
   "metadata": {},
   "outputs": [
    {
     "name": "stdout",
     "output_type": "stream",
     "text": [
      "Mean:0,462218177927587\n",
      "Variance: 0,056343078538716285\n"
     ]
    },
    {
     "data": {
      "image/png": "[encoded data removed]",
      "text/plain": [
       "<Figure size 432x288 with 1 Axes>"
      ]
     },
     "metadata": {
      "needs_background": "light"
     },
     "output_type": "display_data"
    }
   ],
   "source": [
    "plot_hist([\"/media/eddy/datasets/models/CentEuro/hyperparameters/seed_10/delta05_gamma05/birdnet_v13.pt\", \n",
    "          \"/media/eddy/datasets/models/CentEuro/hyperparameters/seed_20/delta05_gamma05/birdnet_v16.pt\",\n",
    "          \"/media/eddy/datasets/models/CentEuro/hyperparameters/seed_30/delta05_gamma05/birdnet_v12.pt\"], \n",
    "         \"/media/eddy/7A9B-14DF/Dokumente/Studium/Vorlesungen/BA-10_SS22/Bachelor Arbeit/Bilder/matplotlib/d05_g05\")"
   ]
  },
  {
   "cell_type": "code",
   "execution_count": 33,
   "id": "8d2aeaac",
   "metadata": {},
   "outputs": [
    {
     "name": "stdout",
     "output_type": "stream",
     "text": [
      "Mean:0,62407260680758\n",
      "Variance: 0,04629132770350256\n"
     ]
    },
    {
     "data": {
      "image/png": "[encoded data removed]",
      "text/plain": [
       "<Figure size 432x288 with 1 Axes>"
      ]
     },
     "metadata": {
      "needs_background": "light"
     },
     "output_type": "display_data"
    }
   ],
   "source": [
    "plot_hist([\"/media/eddy/datasets/models/CentEuro/hyperparameters/seed_10/delta05_gamma07/birdnet_v13.pt\", \n",
    "           \"/media/eddy/datasets/models/CentEuro/hyperparameters/seed_20/delta05_gamma07/birdnet_v12.pt\",\n",
    "           \"/media/eddy/datasets/models/CentEuro/hyperparameters/seed_30/delta05_gamma07/birdnet_v10.pt\"], \n",
    "\"/media/eddy/7A9B-14DF/Dokumente/Studium/Vorlesungen/BA-10_SS22/Bachelor Arbeit/Bilder/matplotlib/d05_g07\")"
   ]
  },
  {
   "cell_type": "code",
   "execution_count": 34,
   "id": "be40374d",
   "metadata": {},
   "outputs": [
    {
     "name": "stdout",
     "output_type": "stream",
     "text": [
      "Mean:0,12459983023810114\n",
      "Variance: 0,03363485485933764\n"
     ]
    },
    {
     "data": {
      "image/png": "[encoded data removed]",
      "text/plain": [
       "<Figure size 432x288 with 1 Axes>"
      ]
     },
     "metadata": {
      "needs_background": "light"
     },
     "output_type": "display_data"
    }
   ],
   "source": [
    "plot_hist([\"/media/eddy/datasets/models/CentEuro/hyperparameters/seed_10/delta07_gamma03/birdnet_v17.pt\", \n",
    "           \"/media/eddy/datasets/models/CentEuro/hyperparameters/seed_20/delta07_gamma03/birdnet_v14.pt\",\n",
    "           \"/media/eddy/datasets/models/CentEuro/hyperparameters/seed_30/delta07_gamma03/birdnet_v12.pt\"], \n",
    "\"/media/eddy/7A9B-14DF/Dokumente/Studium/Vorlesungen/BA-10_SS22/Bachelor Arbeit/Bilder/matplotlib/d07_g03\")"
   ]
  },
  {
   "cell_type": "code",
   "execution_count": 35,
   "id": "487a3dcb",
   "metadata": {},
   "outputs": [
    {
     "name": "stdout",
     "output_type": "stream",
     "text": [
      "Mean:0,17152842143226113\n",
      "Variance: 0,049480384081544766\n"
     ]
    },
    {
     "data": {
      "image/png": "[encoded data removed]",
      "text/plain": [
       "<Figure size 432x288 with 1 Axes>"
      ]
     },
     "metadata": {
      "needs_background": "light"
     },
     "output_type": "display_data"
    }
   ],
   "source": [
    "plot_hist([\"/media/eddy/datasets/models/CentEuro/hyperparameters/seed_10/delta07_gamma05/birdnet_v13.pt\", \n",
    "           \"/media/eddy/datasets/models/CentEuro/hyperparameters/seed_20/delta07_gamma05/birdnet_v9.pt\",\n",
    "           \"/media/eddy/datasets/models/CentEuro/hyperparameters/seed_30/delta07_gamma05/birdnet_v12.pt\"], \n",
    "\"/media/eddy/7A9B-14DF/Dokumente/Studium/Vorlesungen/BA-10_SS22/Bachelor Arbeit/Bilder/matplotlib/d07_g05\")"
   ]
  },
  {
   "cell_type": "code",
   "execution_count": 36,
   "id": "67f3401a",
   "metadata": {},
   "outputs": [
    {
     "name": "stdout",
     "output_type": "stream",
     "text": [
      "Mean:0,2787270018146926\n",
      "Variance: 0,06674988717134865\n"
     ]
    },
    {
     "data": {
      "image/png": "[encoded data removed]",
      "text/plain": [
       "<Figure size 432x288 with 1 Axes>"
      ]
     },
     "metadata": {
      "needs_background": "light"
     },
     "output_type": "display_data"
    }
   ],
   "source": [
    "plot_hist([\"/media/eddy/datasets/models/CentEuro/hyperparameters/seed_10/delta07_gamma07/birdnet_v6.pt\", \n",
    "           \"/media/eddy/datasets/models/CentEuro/hyperparameters/seed_20/delta07_gamma07/birdnet_v9.pt\",\n",
    "           \"/media/eddy/datasets/models/CentEuro/hyperparameters/seed_30/delta07_gamma07/birdnet_v8.pt\"], \n",
    "\"/media/eddy/7A9B-14DF/Dokumente/Studium/Vorlesungen/BA-10_SS22/Bachelor Arbeit/Bilder/matplotlib/d07_g07\")"
   ]
  },
  {
   "cell_type": "code",
   "execution_count": null,
   "id": "728c3f52",
   "metadata": {},
   "outputs": [],
   "source": []
  },
  {
   "cell_type": "code",
   "execution_count": null,
   "id": "4be4b592",
   "metadata": {},
   "outputs": [],
   "source": []
  },
  {
   "cell_type": "code",
   "execution_count": null,
   "id": "a4ff9feb",
   "metadata": {},
   "outputs": [],
   "source": []
  },
  {
   "cell_type": "code",
   "execution_count": null,
   "id": "4e6afd75",
   "metadata": {},
   "outputs": [],
   "source": []
  }
 ],
 "metadata": {
  "kernelspec": {
   "display_name": "Python 3",
   "language": "python",
   "name": "python3"
  },
  "language_info": {
   "codemirror_mode": {
    "name": "ipython",
    "version": 3
   },
   "file_extension": ".py",
   "mimetype": "text/x-python",
   "name": "python",
   "nbconvert_exporter": "python",
   "pygments_lexer": "ipython3",
   "version": "3.8.8"
  }
 },
 "nbformat": 4,
 "nbformat_minor": 5
}
