{
 "cells": [
  {
   "cell_type": "code",
   "execution_count": 1,
   "id": "2829c82c",
   "metadata": {},
   "outputs": [],
   "source": [
    "import os \n",
    "import matplotlib.pyplot as plt\n",
    "import numpy as np\n",
    "import torch\n",
    "import re"
   ]
  },
  {
   "cell_type": "code",
   "execution_count": 2,
   "id": "232ea6b2",
   "metadata": {},
   "outputs": [],
   "source": [
    "def get_distribution(load_path):\n",
    "    softmax = torch.nn.Softmax(dim=0)\n",
    "    checkpoint = torch.load(load_path)\n",
    "    weights = checkpoint['model_state_dict']\n",
    "    pattern_bn_3 = \"module\\.classifier\\.[0-9]+\\.classifier\\.[0-9]+\\.classifier\\.3+\\.weight\"\n",
    "    pattern_bn_7 = \"module\\.classifier\\.[0-9]+\\.classifier\\.[0-9]+\\.classifier\\.7+\\.weight\"\n",
    "    pattern_scaling_factor = \"module\\.classifier\\.[0-9]+\\.classifier\\.[1-9]+\\.W\"\n",
    "    \n",
    "    mean_scale_list = []\n",
    "    var_scale_list = []\n",
    "    \n",
    "    for key, item in weights.items():\n",
    "        bn_3 = re.search(pattern_bn_3, key)\n",
    "        bn_7 = re.search(pattern_bn_7, key)\n",
    "        \n",
    "        scaling_factor = re.search(pattern_scaling_factor, key)\n",
    "        \n",
    "        if bn_3:\n",
    "            values = weights[key]\n",
    "            mean_scale_list[-1][1] = torch.mean(values).cpu()\n",
    "            var_scale_list[-1][1] = torch.var(values).cpu()\n",
    "        if bn_7:\n",
    "            values = weights[key]\n",
    "            mean_scale_list[-1][2] = torch.mean(values).cpu()\n",
    "            var_scale_list[-1][2] = torch.var(values).cpu()\n",
    "\n",
    "        if scaling_factor:\n",
    "            value = weights[key]\n",
    "            value = softmax(value)\n",
    "            mean_scale_list.append([value[0].cpu(),0,0])\n",
    "            var_scale_list.append([value[0].cpu(),0,0])\n",
    "    return mean_scale_list, var_scale_list"
   ]
  },
  {
   "cell_type": "code",
   "execution_count": 3,
   "id": "e13f99b2",
   "metadata": {},
   "outputs": [],
   "source": [
    "def plot_distribution(load_path, save_path):\n",
    "    mean_scale_list, var_scale_list = get_distribution(load_path)\n",
    "    x = [elem[0] for elem in mean_scale_list]\n",
    "    y1 = [elem[1] for elem in mean_scale_list]\n",
    "    y2 = [elem[2] for elem in mean_scale_list]\n",
    "    y3 = [elem[1] for elem in var_scale_list]\n",
    "    y4 = [elem[2] for elem in var_scale_list]\n",
    "    \n",
    "    #print(x)\n",
    "    #print(y1)\n",
    "    #print(y2)\n",
    "    coeff1 = np.corrcoef(x, y1)\n",
    "    coeff2 = np.corrcoef(x, y2)\n",
    "    #coeff3 = np.corrcoef(y1, y2)\n",
    "    \n",
    "    print(\"Korrelationskoeffizient scaling factor - Durschnitt bn layer 1: \" + str(coeff1[0][1]))\n",
    "    print(\"Korrelationskoeffizient scaling factor - Durschnitt bn layer 2: \" + str(coeff2[0][1]))\n",
    "    #print(coeff3)\n",
    "    \n",
    "    fig = plt.figure()\n",
    "    ax = fig.gca()\n",
    "    ax.set_xlabel('block scaling factor')\n",
    "    ax.set_ylabel('mean channel scaling factor')\n",
    "    ax.scatter(x,y1)\n",
    "    ax.scatter(x,y2, marker=\"x\")\n",
    "    #ax.scatter(x,y3, marker=\"<\")\n",
    "    #ax.scatter(x,y4, marker=\">\")\n",
    "    ax.legend([\"Conv Layer 1 mean\", \"Conv Layer 2 mean\", \"Conv Layer 1 var\", \"Conv Layer 2 var\"])\n",
    "    plt.savefig(save_path)"
   ]
  },
  {
   "cell_type": "code",
   "execution_count": 4,
   "id": "e0034aec",
   "metadata": {},
   "outputs": [],
   "source": [
    "def plot_distribution_layer_wise(load_path, save_path):\n",
    "    mean_scale_list, var_scale_list = get_distribution(load_path)\n",
    "    x = [range(0, len(mean_scale_list))]\n",
    "    y0 = [elem[0] for elem in mean_scale_list]\n",
    "    y1 = [elem[1] for elem in mean_scale_list]\n",
    "    y2 = [elem[2] for elem in mean_scale_list]\n",
    "    y3 = [elem[1] for elem in var_scale_list]\n",
    "    y4 = [elem[2] for elem in var_scale_list]\n",
    "    \n",
    "    coeff0 = np.corrcoef(x, y0)\n",
    "    coeff1 = np.corrcoef(x, y1)\n",
    "    coeff2 = np.corrcoef(x, y2)\n",
    "    #coeff3 = np.corrcoef(y1, y2)\n",
    "    \n",
    "    print(\"Korrelationskoeffizient layer - block scaling factor: \" + str(coeff0[0][1]))\n",
    "    print(\"Korrelationskoeffizient layer - Durschnitt bn layer 1: \" + str(coeff1[0][1]))\n",
    "    print(\"Korrelationskoeffizient layer - Durschnitt bn layer 2: \" + str(coeff2[0][1]))\n",
    "    \n",
    "    fig = plt.figure()\n",
    "    ax = fig.gca()\n",
    "    ax.set_xlabel('Layer')\n",
    "    ax.set_ylabel('Factor')\n",
    "    ax.scatter(x, y0)\n",
    "    ax.scatter(x,y1)\n",
    "    ax.scatter(x,y2, marker=\"x\")\n",
    "    ax.legend([\"Block Scaling Factor\", \"Conv Layer 1 mean\", \"Conv Layer 2 mean\", \"Conv Layer 1 var\", \"Conv Layer 2 var\"])\n",
    "    plt.savefig(save_path)"
   ]
  },
  {
   "cell_type": "code",
   "execution_count": 5,
   "id": "b02574df",
   "metadata": {},
   "outputs": [],
   "source": [
    "def plot_graphs(load_path, save_name):\n",
    "    checkpoint = torch.load(load_path)\n",
    "    test_acc = np.array(checkpoint['test_acc_list'])\n",
    "    train_acc = np.array(checkpoint['train_acc_list'])\n",
    "    test_loss = np.array(checkpoint['test_loss_list'])\n",
    "    train_loss = np.array(checkpoint['train_loss_list'])\n",
    "    x = np.array(list(range(0, len(test_acc))))\n",
    "\n",
    "\n",
    "    fig, ax1 = plt.subplots()\n",
    "\n",
    "    color = 'tab:red'\n",
    "    ax1.set_xlabel('epochs')\n",
    "    ax1.set_ylabel('accuracy')\n",
    "    if len(train_acc) == len(x):\n",
    "        ax1.plot(x, test_acc, color='g')\n",
    "        ax1.plot(x, train_acc, color='r')\n",
    "    else:\n",
    "        ax1.plot(x, test_acc, color='g')\n",
    "        ax1.plot(x[1:], train_acc, color='r')\n",
    "    ax1.tick_params(axis='y')\n",
    "\n",
    "    ax2 = ax1.twinx()  # instantiate a second axes that shares the same x-axis\n",
    "\n",
    "    color = 'tab:blue'\n",
    "    ax2.set_ylabel('loss')  # we already handled the x-label with ax1\n",
    "    if len(train_loss) == len(x):\n",
    "        ax2.plot(x, test_loss, color='b')\n",
    "        ax2.plot(x, train_loss, color='y')\n",
    "    else:\n",
    "        ax2.plot(x, test_loss, color='b')\n",
    "        ax2.plot(x[1:], train_loss, color='y')\n",
    "    ax2.tick_params(axis='y')\n",
    "\n",
    "    #plt.xticks(list(range(0, len(x), 2)))\n",
    "    ax1.legend(['test accuracy', 'train accuracy'])\n",
    "    ax2.legend(['test loss', 'train loss'])\n",
    "    fig.tight_layout()  # otherwise the right y-label is slightly clipped\n",
    "    plt.grid()\n",
    "    plt.savefig(save_name)\n",
    "    #plt.show()\n"
   ]
  },
  {
   "cell_type": "markdown",
   "id": "546ed486",
   "metadata": {},
   "source": [
    "def plot_train_set(path, epoch):\n",
    "    folders = os.listdir(path)\n",
    "    files = []\n",
    "    test_acc = []\n",
    "    train_acc = []\n",
    "    test_loss = []\n",
    "    train_loss = []\n",
    "    for elem in folders:\n",
    "        files.append(path + elem + \"/birdnet_final.pt\")\n",
    "        \n",
    "    for file in files: \n",
    "        checkpoint = torch.load(file)\n",
    "        test_acc.append(np.array(checkpoint['test_acc_list']))\n",
    "        train_acc.append(np.array(checkpoint['train_acc_list']))\n",
    "        test_loss.append(np.array(checkpoint['test_loss_list']))\n",
    "        train_loss.append(np.array(checkpoint['train_loss_list']))\n",
    "    y = []\n",
    "    x = \n",
    "    for elem in test_acc:\n",
    "        y.append(elem[epoch])"
   ]
  },
  {
   "cell_type": "code",
   "execution_count": 6,
   "id": "b60706e9",
   "metadata": {},
   "outputs": [],
   "source": [
    "def get_scaling_factor_distribution(load_path):\n",
    "    softmax = torch.nn.Softmax(dim=0)\n",
    "    checkpoint = torch.load(load_path)\n",
    "    weights = checkpoint['model_state_dict']\n",
    "    pattern_bn_3 = \"module\\.classifier\\.[0-9]+\\.classifier\\.[0-9]+\\.classifier\\.3+\\.weight\"\n",
    "    pattern_bn_7 = \"module\\.classifier\\.[0-9]+\\.classifier\\.[0-9]+\\.classifier\\.7+\\.weight\"\n",
    "    pattern_scaling_factor = \"module\\.classifier\\.[0-9]+\\.classifier\\.[1-9]+\\.W\"\n",
    "    \n",
    "    scale_factor_list = []\n",
    "    \n",
    "    for key, item in weights.items():\n",
    "        bn_3 = re.search(pattern_bn_3, key)\n",
    "        bn_7 = re.search(pattern_bn_7, key)\n",
    "        \n",
    "        scaling_factor = re.search(pattern_scaling_factor, key)\n",
    "        \n",
    "        if bn_3:\n",
    "            values = weights[key]\n",
    "            scale_factor_list[-1][1] = values\n",
    "        if bn_7:\n",
    "            values = weights[key]\n",
    "            scale_factor_list[-1][2] = values\n",
    "\n",
    "        if scaling_factor:\n",
    "            value = weights[key]\n",
    "            value = softmax(value)\n",
    "            scale_factor_list.append([value[0].cpu(),0,0])\n",
    "    return scale_factor_list"
   ]
  },
  {
   "cell_type": "code",
   "execution_count": null,
   "id": "e1df6590",
   "metadata": {},
   "outputs": [],
   "source": []
  },
  {
   "cell_type": "code",
   "execution_count": 7,
   "id": "42a60b68",
   "metadata": {},
   "outputs": [],
   "source": [
    "def plot_hist(values, save_name, resolution=50):\n",
    "    conv1_list = []\n",
    "    conv2_list = []\n",
    "    for _, conv1, conv2 in values:\n",
    "        conv1_list += list(conv1.cpu())\n",
    "        conv2_list += list(conv2.cpu())\n",
    "    \n",
    "    #print(len(conv1_list))\n",
    "    #print(len(conv2_list))\n",
    "    \n",
    "    #plt.hist(np.array(conv1_list), resolution)\n",
    "    #plt.show()\n",
    "    #plt.hist(np.array(conv2_list), resolution)\n",
    "    #plt.show()\n",
    "    conv1_list += conv2_list\n",
    "    print(len(conv1_list))\n",
    "    plt.hist(np.array(conv1_list), resolution)\n",
    "    plt.grid()\n",
    "    \n",
    "    plt.savefig(save_name)\n",
    "    plt.show()"
   ]
  },
  {
   "cell_type": "code",
   "execution_count": 8,
   "id": "69d0cdf1",
   "metadata": {},
   "outputs": [
    {
     "ename": "ModuleNotFoundError",
     "evalue": "No module named 'metrics'",
     "output_type": "error",
     "traceback": [
      "\u001b[0;31m---------------------------------------------------------------------------\u001b[0m",
      "\u001b[0;31mModuleNotFoundError\u001b[0m                       Traceback (most recent call last)",
      "\u001b[0;32m<ipython-input-8-f51824358b91>\u001b[0m in \u001b[0;36m<module>\u001b[0;34m\u001b[0m\n\u001b[0;32m----> 1\u001b[0;31m \u001b[0mvalue\u001b[0m \u001b[0;34m=\u001b[0m \u001b[0mget_scaling_factor_distribution\u001b[0m\u001b[0;34m(\u001b[0m\u001b[0;34m\"../models/birdnet/birdnet_final.pt\"\u001b[0m\u001b[0;34m)\u001b[0m\u001b[0;34m\u001b[0m\u001b[0;34m\u001b[0m\u001b[0m\n\u001b[0m\u001b[1;32m      2\u001b[0m \u001b[0mplot_hist\u001b[0m\u001b[0;34m(\u001b[0m\u001b[0mvalue\u001b[0m\u001b[0;34m,\u001b[0m \u001b[0;34m\"images/birdnet_final.png\"\u001b[0m\u001b[0;34m)\u001b[0m\u001b[0;34m\u001b[0m\u001b[0;34m\u001b[0m\u001b[0m\n",
      "\u001b[0;32m<ipython-input-6-061d8558c034>\u001b[0m in \u001b[0;36mget_scaling_factor_distribution\u001b[0;34m(load_path)\u001b[0m\n\u001b[1;32m      1\u001b[0m \u001b[0;32mdef\u001b[0m \u001b[0mget_scaling_factor_distribution\u001b[0m\u001b[0;34m(\u001b[0m\u001b[0mload_path\u001b[0m\u001b[0;34m)\u001b[0m\u001b[0;34m:\u001b[0m\u001b[0;34m\u001b[0m\u001b[0;34m\u001b[0m\u001b[0m\n\u001b[1;32m      2\u001b[0m     \u001b[0msoftmax\u001b[0m \u001b[0;34m=\u001b[0m \u001b[0mtorch\u001b[0m\u001b[0;34m.\u001b[0m\u001b[0mnn\u001b[0m\u001b[0;34m.\u001b[0m\u001b[0mSoftmax\u001b[0m\u001b[0;34m(\u001b[0m\u001b[0mdim\u001b[0m\u001b[0;34m=\u001b[0m\u001b[0;36m0\u001b[0m\u001b[0;34m)\u001b[0m\u001b[0;34m\u001b[0m\u001b[0;34m\u001b[0m\u001b[0m\n\u001b[0;32m----> 3\u001b[0;31m     \u001b[0mcheckpoint\u001b[0m \u001b[0;34m=\u001b[0m \u001b[0mtorch\u001b[0m\u001b[0;34m.\u001b[0m\u001b[0mload\u001b[0m\u001b[0;34m(\u001b[0m\u001b[0mload_path\u001b[0m\u001b[0;34m)\u001b[0m\u001b[0;34m\u001b[0m\u001b[0;34m\u001b[0m\u001b[0m\n\u001b[0m\u001b[1;32m      4\u001b[0m     \u001b[0mweights\u001b[0m \u001b[0;34m=\u001b[0m \u001b[0mcheckpoint\u001b[0m\u001b[0;34m[\u001b[0m\u001b[0;34m'model_state_dict'\u001b[0m\u001b[0;34m]\u001b[0m\u001b[0;34m\u001b[0m\u001b[0;34m\u001b[0m\u001b[0m\n\u001b[1;32m      5\u001b[0m     \u001b[0mpattern_bn_3\u001b[0m \u001b[0;34m=\u001b[0m \u001b[0;34m\"module\\.classifier\\.[0-9]+\\.classifier\\.[0-9]+\\.classifier\\.3+\\.weight\"\u001b[0m\u001b[0;34m\u001b[0m\u001b[0;34m\u001b[0m\u001b[0m\n",
      "\u001b[0;32m~/Programme/anaconda3/lib/python3.8/site-packages/torch/serialization.py\u001b[0m in \u001b[0;36mload\u001b[0;34m(f, map_location, pickle_module, **pickle_load_args)\u001b[0m\n\u001b[1;32m    605\u001b[0m                     \u001b[0mopened_file\u001b[0m\u001b[0;34m.\u001b[0m\u001b[0mseek\u001b[0m\u001b[0;34m(\u001b[0m\u001b[0morig_position\u001b[0m\u001b[0;34m)\u001b[0m\u001b[0;34m\u001b[0m\u001b[0;34m\u001b[0m\u001b[0m\n\u001b[1;32m    606\u001b[0m                     \u001b[0;32mreturn\u001b[0m \u001b[0mtorch\u001b[0m\u001b[0;34m.\u001b[0m\u001b[0mjit\u001b[0m\u001b[0;34m.\u001b[0m\u001b[0mload\u001b[0m\u001b[0;34m(\u001b[0m\u001b[0mopened_file\u001b[0m\u001b[0;34m)\u001b[0m\u001b[0;34m\u001b[0m\u001b[0;34m\u001b[0m\u001b[0m\n\u001b[0;32m--> 607\u001b[0;31m                 \u001b[0;32mreturn\u001b[0m \u001b[0m_load\u001b[0m\u001b[0;34m(\u001b[0m\u001b[0mopened_zipfile\u001b[0m\u001b[0;34m,\u001b[0m \u001b[0mmap_location\u001b[0m\u001b[0;34m,\u001b[0m \u001b[0mpickle_module\u001b[0m\u001b[0;34m,\u001b[0m \u001b[0;34m**\u001b[0m\u001b[0mpickle_load_args\u001b[0m\u001b[0;34m)\u001b[0m\u001b[0;34m\u001b[0m\u001b[0;34m\u001b[0m\u001b[0m\n\u001b[0m\u001b[1;32m    608\u001b[0m         \u001b[0;32mreturn\u001b[0m \u001b[0m_legacy_load\u001b[0m\u001b[0;34m(\u001b[0m\u001b[0mopened_file\u001b[0m\u001b[0;34m,\u001b[0m \u001b[0mmap_location\u001b[0m\u001b[0;34m,\u001b[0m \u001b[0mpickle_module\u001b[0m\u001b[0;34m,\u001b[0m \u001b[0;34m**\u001b[0m\u001b[0mpickle_load_args\u001b[0m\u001b[0;34m)\u001b[0m\u001b[0;34m\u001b[0m\u001b[0;34m\u001b[0m\u001b[0m\n\u001b[1;32m    609\u001b[0m \u001b[0;34m\u001b[0m\u001b[0m\n",
      "\u001b[0;32m~/Programme/anaconda3/lib/python3.8/site-packages/torch/serialization.py\u001b[0m in \u001b[0;36m_load\u001b[0;34m(zip_file, map_location, pickle_module, pickle_file, **pickle_load_args)\u001b[0m\n\u001b[1;32m    880\u001b[0m     \u001b[0munpickler\u001b[0m \u001b[0;34m=\u001b[0m \u001b[0mUnpicklerWrapper\u001b[0m\u001b[0;34m(\u001b[0m\u001b[0mdata_file\u001b[0m\u001b[0;34m,\u001b[0m \u001b[0;34m**\u001b[0m\u001b[0mpickle_load_args\u001b[0m\u001b[0;34m)\u001b[0m\u001b[0;34m\u001b[0m\u001b[0;34m\u001b[0m\u001b[0m\n\u001b[1;32m    881\u001b[0m     \u001b[0munpickler\u001b[0m\u001b[0;34m.\u001b[0m\u001b[0mpersistent_load\u001b[0m \u001b[0;34m=\u001b[0m \u001b[0mpersistent_load\u001b[0m\u001b[0;34m\u001b[0m\u001b[0;34m\u001b[0m\u001b[0m\n\u001b[0;32m--> 882\u001b[0;31m     \u001b[0mresult\u001b[0m \u001b[0;34m=\u001b[0m \u001b[0munpickler\u001b[0m\u001b[0;34m.\u001b[0m\u001b[0mload\u001b[0m\u001b[0;34m(\u001b[0m\u001b[0;34m)\u001b[0m\u001b[0;34m\u001b[0m\u001b[0;34m\u001b[0m\u001b[0m\n\u001b[0m\u001b[1;32m    883\u001b[0m \u001b[0;34m\u001b[0m\u001b[0m\n\u001b[1;32m    884\u001b[0m     \u001b[0mtorch\u001b[0m\u001b[0;34m.\u001b[0m\u001b[0m_utils\u001b[0m\u001b[0;34m.\u001b[0m\u001b[0m_validate_loaded_sparse_tensors\u001b[0m\u001b[0;34m(\u001b[0m\u001b[0;34m)\u001b[0m\u001b[0;34m\u001b[0m\u001b[0;34m\u001b[0m\u001b[0m\n",
      "\u001b[0;32m~/Programme/anaconda3/lib/python3.8/site-packages/torch/serialization.py\u001b[0m in \u001b[0;36mfind_class\u001b[0;34m(self, mod_name, name)\u001b[0m\n\u001b[1;32m    873\u001b[0m         \u001b[0;32mdef\u001b[0m \u001b[0mfind_class\u001b[0m\u001b[0;34m(\u001b[0m\u001b[0mself\u001b[0m\u001b[0;34m,\u001b[0m \u001b[0mmod_name\u001b[0m\u001b[0;34m,\u001b[0m \u001b[0mname\u001b[0m\u001b[0;34m)\u001b[0m\u001b[0;34m:\u001b[0m\u001b[0;34m\u001b[0m\u001b[0;34m\u001b[0m\u001b[0m\n\u001b[1;32m    874\u001b[0m             \u001b[0mmod_name\u001b[0m \u001b[0;34m=\u001b[0m \u001b[0mload_module_mapping\u001b[0m\u001b[0;34m.\u001b[0m\u001b[0mget\u001b[0m\u001b[0;34m(\u001b[0m\u001b[0mmod_name\u001b[0m\u001b[0;34m,\u001b[0m \u001b[0mmod_name\u001b[0m\u001b[0;34m)\u001b[0m\u001b[0;34m\u001b[0m\u001b[0;34m\u001b[0m\u001b[0m\n\u001b[0;32m--> 875\u001b[0;31m             \u001b[0;32mreturn\u001b[0m \u001b[0msuper\u001b[0m\u001b[0;34m(\u001b[0m\u001b[0;34m)\u001b[0m\u001b[0;34m.\u001b[0m\u001b[0mfind_class\u001b[0m\u001b[0;34m(\u001b[0m\u001b[0mmod_name\u001b[0m\u001b[0;34m,\u001b[0m \u001b[0mname\u001b[0m\u001b[0;34m)\u001b[0m\u001b[0;34m\u001b[0m\u001b[0;34m\u001b[0m\u001b[0m\n\u001b[0m\u001b[1;32m    876\u001b[0m \u001b[0;34m\u001b[0m\u001b[0m\n\u001b[1;32m    877\u001b[0m     \u001b[0;31m# Load the data (which may in turn use `persistent_load` to load tensors)\u001b[0m\u001b[0;34m\u001b[0m\u001b[0;34m\u001b[0m\u001b[0;34m\u001b[0m\u001b[0m\n",
      "\u001b[0;31mModuleNotFoundError\u001b[0m: No module named 'metrics'"
     ]
    }
   ],
   "source": [
    "value = get_scaling_factor_distribution(\"../models/birdnet/birdnet_final.pt\")\n",
    "plot_hist(value, \"images/birdnet_final.png\")"
   ]
  },
  {
   "cell_type": "code",
   "execution_count": null,
   "id": "22f5bead",
   "metadata": {},
   "outputs": [],
   "source": [
    "value = get_scaling_factor_distribution(\"models/birdnet/birdnet_v0.pt\")\n",
    "plot_hist(value, \"images/birdnet_v0\")"
   ]
  },
  {
   "cell_type": "code",
   "execution_count": null,
   "id": "b7c8ff83",
   "metadata": {},
   "outputs": [],
   "source": [
    "value = get_scaling_factor_distribution(\"models/birdnet/birdnet_v1.pt\")\n",
    "plot_hist(value, \"images/birdnet_v1\")"
   ]
  },
  {
   "cell_type": "code",
   "execution_count": null,
   "id": "e408fc0f",
   "metadata": {},
   "outputs": [],
   "source": [
    "value = get_scaling_factor_distribution(\"models/birdnet/birdnet_v2.pt\")\n",
    "plot_hist(value, \"images/birdnet_v2\")"
   ]
  },
  {
   "cell_type": "code",
   "execution_count": null,
   "id": "dee3f49e",
   "metadata": {},
   "outputs": [],
   "source": [
    "value = get_scaling_factor_distribution(\"models/birdnet/birdnet_v3.pt\")\n",
    "plot_hist(value, \"images/birdnet_v3\")"
   ]
  },
  {
   "cell_type": "code",
   "execution_count": null,
   "id": "b3b0038a",
   "metadata": {},
   "outputs": [],
   "source": [
    "value = get_scaling_factor_distribution(\"models/birdnet/birdnet_v4.pt\")\n",
    "plot_hist(value, \"images/birdnet_v4\")"
   ]
  },
  {
   "cell_type": "code",
   "execution_count": null,
   "id": "83383e1f",
   "metadata": {},
   "outputs": [],
   "source": [
    "value = get_scaling_factor_distribution(\"models/birdnet/birdnet_v5.pt\")\n",
    "plot_hist(value, \"images/birdnet_v5\")"
   ]
  },
  {
   "cell_type": "code",
   "execution_count": null,
   "id": "e6133d50",
   "metadata": {},
   "outputs": [],
   "source": [
    "value = get_scaling_factor_distribution(\"models/birdnet/pruned/test/birdnet_v0.pt\")\n",
    "plot_hist(value, \"images/birdnet_pruned\")"
   ]
  },
  {
   "cell_type": "code",
   "execution_count": null,
   "id": "873f868c",
   "metadata": {},
   "outputs": [],
   "source": [
    "value = get_scaling_factor_distribution(\"/media/eddy/datasets/models/gamma04_delta_06_separated_birdnet_final.pt\")\n",
    "plot_hist(value, \"\")"
   ]
  },
  {
   "cell_type": "code",
   "execution_count": null,
   "id": "e5fcd739",
   "metadata": {},
   "outputs": [],
   "source": [
    "value = get_scaling_factor_distribution(\"/media/eddy/datasets/models/birdnet_gamma_40_delta_60/birdnet_final.pt\")\n",
    "plot_hist(value, \"\")"
   ]
  },
  {
   "cell_type": "code",
   "execution_count": 9,
   "id": "fb3af5ca",
   "metadata": {},
   "outputs": [
    {
     "ename": "ModuleNotFoundError",
     "evalue": "No module named 'metrics'",
     "output_type": "error",
     "traceback": [
      "\u001b[0;31m---------------------------------------------------------------------------\u001b[0m",
      "\u001b[0;31mModuleNotFoundError\u001b[0m                       Traceback (most recent call last)",
      "\u001b[0;32m<ipython-input-9-f19b829d0c57>\u001b[0m in \u001b[0;36m<module>\u001b[0;34m\u001b[0m\n\u001b[0;32m----> 1\u001b[0;31m \u001b[0mtest\u001b[0m \u001b[0;34m=\u001b[0m \u001b[0mtorch\u001b[0m\u001b[0;34m.\u001b[0m\u001b[0mload\u001b[0m\u001b[0;34m(\u001b[0m\u001b[0;34m\"/media/eddy/bachelor-arbeit/PruningBirdNet/models/birdnet_v1/birdnet_final.pt\"\u001b[0m\u001b[0;34m)\u001b[0m\u001b[0;34m\u001b[0m\u001b[0;34m\u001b[0m\u001b[0m\n\u001b[0m",
      "\u001b[0;32m~/Programme/anaconda3/lib/python3.8/site-packages/torch/serialization.py\u001b[0m in \u001b[0;36mload\u001b[0;34m(f, map_location, pickle_module, **pickle_load_args)\u001b[0m\n\u001b[1;32m    605\u001b[0m                     \u001b[0mopened_file\u001b[0m\u001b[0;34m.\u001b[0m\u001b[0mseek\u001b[0m\u001b[0;34m(\u001b[0m\u001b[0morig_position\u001b[0m\u001b[0;34m)\u001b[0m\u001b[0;34m\u001b[0m\u001b[0;34m\u001b[0m\u001b[0m\n\u001b[1;32m    606\u001b[0m                     \u001b[0;32mreturn\u001b[0m \u001b[0mtorch\u001b[0m\u001b[0;34m.\u001b[0m\u001b[0mjit\u001b[0m\u001b[0;34m.\u001b[0m\u001b[0mload\u001b[0m\u001b[0;34m(\u001b[0m\u001b[0mopened_file\u001b[0m\u001b[0;34m)\u001b[0m\u001b[0;34m\u001b[0m\u001b[0;34m\u001b[0m\u001b[0m\n\u001b[0;32m--> 607\u001b[0;31m                 \u001b[0;32mreturn\u001b[0m \u001b[0m_load\u001b[0m\u001b[0;34m(\u001b[0m\u001b[0mopened_zipfile\u001b[0m\u001b[0;34m,\u001b[0m \u001b[0mmap_location\u001b[0m\u001b[0;34m,\u001b[0m \u001b[0mpickle_module\u001b[0m\u001b[0;34m,\u001b[0m \u001b[0;34m**\u001b[0m\u001b[0mpickle_load_args\u001b[0m\u001b[0;34m)\u001b[0m\u001b[0;34m\u001b[0m\u001b[0;34m\u001b[0m\u001b[0m\n\u001b[0m\u001b[1;32m    608\u001b[0m         \u001b[0;32mreturn\u001b[0m \u001b[0m_legacy_load\u001b[0m\u001b[0;34m(\u001b[0m\u001b[0mopened_file\u001b[0m\u001b[0;34m,\u001b[0m \u001b[0mmap_location\u001b[0m\u001b[0;34m,\u001b[0m \u001b[0mpickle_module\u001b[0m\u001b[0;34m,\u001b[0m \u001b[0;34m**\u001b[0m\u001b[0mpickle_load_args\u001b[0m\u001b[0;34m)\u001b[0m\u001b[0;34m\u001b[0m\u001b[0;34m\u001b[0m\u001b[0m\n\u001b[1;32m    609\u001b[0m \u001b[0;34m\u001b[0m\u001b[0m\n",
      "\u001b[0;32m~/Programme/anaconda3/lib/python3.8/site-packages/torch/serialization.py\u001b[0m in \u001b[0;36m_load\u001b[0;34m(zip_file, map_location, pickle_module, pickle_file, **pickle_load_args)\u001b[0m\n\u001b[1;32m    880\u001b[0m     \u001b[0munpickler\u001b[0m \u001b[0;34m=\u001b[0m \u001b[0mUnpicklerWrapper\u001b[0m\u001b[0;34m(\u001b[0m\u001b[0mdata_file\u001b[0m\u001b[0;34m,\u001b[0m \u001b[0;34m**\u001b[0m\u001b[0mpickle_load_args\u001b[0m\u001b[0;34m)\u001b[0m\u001b[0;34m\u001b[0m\u001b[0;34m\u001b[0m\u001b[0m\n\u001b[1;32m    881\u001b[0m     \u001b[0munpickler\u001b[0m\u001b[0;34m.\u001b[0m\u001b[0mpersistent_load\u001b[0m \u001b[0;34m=\u001b[0m \u001b[0mpersistent_load\u001b[0m\u001b[0;34m\u001b[0m\u001b[0;34m\u001b[0m\u001b[0m\n\u001b[0;32m--> 882\u001b[0;31m     \u001b[0mresult\u001b[0m \u001b[0;34m=\u001b[0m \u001b[0munpickler\u001b[0m\u001b[0;34m.\u001b[0m\u001b[0mload\u001b[0m\u001b[0;34m(\u001b[0m\u001b[0;34m)\u001b[0m\u001b[0;34m\u001b[0m\u001b[0;34m\u001b[0m\u001b[0m\n\u001b[0m\u001b[1;32m    883\u001b[0m \u001b[0;34m\u001b[0m\u001b[0m\n\u001b[1;32m    884\u001b[0m     \u001b[0mtorch\u001b[0m\u001b[0;34m.\u001b[0m\u001b[0m_utils\u001b[0m\u001b[0;34m.\u001b[0m\u001b[0m_validate_loaded_sparse_tensors\u001b[0m\u001b[0;34m(\u001b[0m\u001b[0;34m)\u001b[0m\u001b[0;34m\u001b[0m\u001b[0;34m\u001b[0m\u001b[0m\n",
      "\u001b[0;32m~/Programme/anaconda3/lib/python3.8/site-packages/torch/serialization.py\u001b[0m in \u001b[0;36mfind_class\u001b[0;34m(self, mod_name, name)\u001b[0m\n\u001b[1;32m    873\u001b[0m         \u001b[0;32mdef\u001b[0m \u001b[0mfind_class\u001b[0m\u001b[0;34m(\u001b[0m\u001b[0mself\u001b[0m\u001b[0;34m,\u001b[0m \u001b[0mmod_name\u001b[0m\u001b[0;34m,\u001b[0m \u001b[0mname\u001b[0m\u001b[0;34m)\u001b[0m\u001b[0;34m:\u001b[0m\u001b[0;34m\u001b[0m\u001b[0;34m\u001b[0m\u001b[0m\n\u001b[1;32m    874\u001b[0m             \u001b[0mmod_name\u001b[0m \u001b[0;34m=\u001b[0m \u001b[0mload_module_mapping\u001b[0m\u001b[0;34m.\u001b[0m\u001b[0mget\u001b[0m\u001b[0;34m(\u001b[0m\u001b[0mmod_name\u001b[0m\u001b[0;34m,\u001b[0m \u001b[0mmod_name\u001b[0m\u001b[0;34m)\u001b[0m\u001b[0;34m\u001b[0m\u001b[0;34m\u001b[0m\u001b[0m\n\u001b[0;32m--> 875\u001b[0;31m             \u001b[0;32mreturn\u001b[0m \u001b[0msuper\u001b[0m\u001b[0;34m(\u001b[0m\u001b[0;34m)\u001b[0m\u001b[0;34m.\u001b[0m\u001b[0mfind_class\u001b[0m\u001b[0;34m(\u001b[0m\u001b[0mmod_name\u001b[0m\u001b[0;34m,\u001b[0m \u001b[0mname\u001b[0m\u001b[0;34m)\u001b[0m\u001b[0;34m\u001b[0m\u001b[0;34m\u001b[0m\u001b[0m\n\u001b[0m\u001b[1;32m    876\u001b[0m \u001b[0;34m\u001b[0m\u001b[0m\n\u001b[1;32m    877\u001b[0m     \u001b[0;31m# Load the data (which may in turn use `persistent_load` to load tensors)\u001b[0m\u001b[0;34m\u001b[0m\u001b[0;34m\u001b[0m\u001b[0;34m\u001b[0m\u001b[0m\n",
      "\u001b[0;31mModuleNotFoundError\u001b[0m: No module named 'metrics'"
     ]
    }
   ],
   "source": [
    "test = torch.load(\"/media/eddy/bachelor-arbeit/PruningBirdNet/models/birdnet_v1/birdnet_final.pt\")"
   ]
  },
  {
   "cell_type": "code",
   "execution_count": null,
   "id": "2cd8f72b",
   "metadata": {},
   "outputs": [],
   "source": []
  }
 ],
 "metadata": {
  "kernelspec": {
   "display_name": "Python 3",
   "language": "python",
   "name": "python3"
  },
  "language_info": {
   "codemirror_mode": {
    "name": "ipython",
    "version": 3
   },
   "file_extension": ".py",
   "mimetype": "text/x-python",
   "name": "python",
   "nbconvert_exporter": "python",
   "pygments_lexer": "ipython3",
   "version": "3.8.8"
  }
 },
 "nbformat": 4,
 "nbformat_minor": 5
}
