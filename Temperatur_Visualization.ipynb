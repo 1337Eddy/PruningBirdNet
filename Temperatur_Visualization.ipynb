{
 "cells": [
  {
   "cell_type": "code",
   "execution_count": 17,
   "id": "52c1917e",
   "metadata": {},
   "outputs": [],
   "source": [
    "import os \n",
    "import matplotlib.pyplot as plt\n",
    "import numpy as np\n",
    "import torch\n",
    "import re\n",
    "from torchsummary import summary\n",
    "import model"
   ]
  },
  {
   "cell_type": "code",
   "execution_count": 18,
   "id": "baedf48b",
   "metadata": {},
   "outputs": [],
   "source": [
    "path = \"/media/eddy/datasets/models/new/pruned/channel_90/block_0/\""
   ]
  },
  {
   "cell_type": "code",
   "execution_count": 21,
   "id": "1380a5b2",
   "metadata": {},
   "outputs": [],
   "source": [
    "def plot_accuracy_and_model_size_for_pruned_batch(path, path_baseline, epoch, channel_or_block=\"channel\"):\n",
    "    folders = os.listdir(path)\n",
    "    folders = sorted(folders)\n",
    "    folders = list(filter(lambda elem: os.path.isdir(path + elem + \"/\"),folders))\n",
    "\n",
    "    \n",
    "    x = {\"0.0\": None,  \"0.5\": None, \"1.0\": None, \"1.5\": None, \"2.0\": None, \"2.5\": None}\n",
    "    \n",
    "    for temp, file in x.items():\n",
    "        for elem in folders:\n",
    "            if temp in elem:\n",
    "                x[temp] = elem\n",
    "        \n",
    "    for key in x.keys():\n",
    "        x[key] = path + x[key] + \"/birdnet_final.pt\"\n",
    "        \n",
    "    files = {}\n",
    "    for key in x.keys():\n",
    "        file = torch.load(x[key])\n",
    "        files[float(key)] = file\n",
    "    for key in files.keys():\n",
    "        print(f\"key: {key} max val acc: {max(files[key]['test_acc_list'])}\")\n",
    "    \n",
    "    "
   ]
  },
  {
   "cell_type": "code",
   "execution_count": 23,
   "id": "9e3d048c",
   "metadata": {},
   "outputs": [
    {
     "name": "stdout",
     "output_type": "stream",
     "text": [
      "key: 0.0 max val acc: 0.6841477949940405\n",
      "key: 0.5 max val acc: 0.6877234803337307\n",
      "key: 1.0 max val acc: 0.6722288438617402\n",
      "key: 1.5 max val acc: 0.6626936829558999\n",
      "key: 2.0 max val acc: 0.6912991656734208\n",
      "key: 2.5 max val acc: 0.6746126340882003\n"
     ]
    }
   ],
   "source": [
    "plot_accuracy_and_model_size_for_pruned_batch(\"/media/eddy/datasets/models/new/pruned/channel_90/block_0/\", \"\", \"\", \"\")"
   ]
  },
  {
   "cell_type": "code",
   "execution_count": 24,
   "id": "aebd4572",
   "metadata": {},
   "outputs": [
    {
     "name": "stdout",
     "output_type": "stream",
     "text": [
      "key: 0.0 max val acc: 0.66507747318236\n",
      "key: 0.5 max val acc: 0.6615017878426699\n",
      "key: 1.0 max val acc: 0.6698450536352801\n",
      "key: 1.5 max val acc: 0.6758045292014303\n",
      "key: 2.0 max val acc: 0.6722288438617402\n",
      "key: 2.5 max val acc: 0.6746126340882003\n"
     ]
    }
   ],
   "source": [
    "plot_accuracy_and_model_size_for_pruned_batch(\"/media/eddy/datasets/models/new/pruned/channel_90/block_3/\", \"\", \"\", \"\")"
   ]
  },
  {
   "cell_type": "code",
   "execution_count": 25,
   "id": "24b8502e",
   "metadata": {},
   "outputs": [
    {
     "name": "stdout",
     "output_type": "stream",
     "text": [
      "key: 0.0 max val acc: 0.6686531585220501\n",
      "key: 0.5 max val acc: 0.6686531585220501\n",
      "key: 1.0 max val acc: 0.6805721096543504\n",
      "key: 1.5 max val acc: 0.6591179976162098\n",
      "key: 2.0 max val acc: 0.6746126340882003\n",
      "key: 2.5 max val acc: 0.6567342073897497\n"
     ]
    }
   ],
   "source": [
    "plot_accuracy_and_model_size_for_pruned_batch(\"/media/eddy/datasets/models/new/pruned/channel_90/block_6/\", \"\", \"\", \"\")"
   ]
  },
  {
   "cell_type": "code",
   "execution_count": null,
   "id": "8e679446",
   "metadata": {},
   "outputs": [],
   "source": []
  },
  {
   "cell_type": "code",
   "execution_count": null,
   "id": "f4d85cd8",
   "metadata": {},
   "outputs": [],
   "source": []
  },
  {
   "cell_type": "code",
   "execution_count": null,
   "id": "d5fbdb32",
   "metadata": {},
   "outputs": [],
   "source": [
    "exit()\n",
    "    for elem in folders:\n",
    "        if channel_or_block == \"channel\":\n",
    "            pattern = re.compile(\"c[0-9]+\")\n",
    "        else: \n",
    "            pattern = re.compile(\"b[0-9]+\")\n",
    "        result = pattern.search(elem)\n",
    "        x.append(int(result[0][1:]))\n",
    "        files.append(path + elem + \"/birdnet_final.pt\")\n",
    "    \n",
    "    print(x)\n",
    "        \n",
    "    for file in files: \n",
    "        checkpoint = torch.load(file)\n",
    "        test_acc.append(np.array(checkpoint['test_acc_list']))\n",
    "        train_acc.append(np.array(checkpoint['train_acc_list']))\n",
    "        test_loss.append(np.array(checkpoint['test_loss_list']))\n",
    "        train_loss.append(np.array(checkpoint['train_loss_list']))\n",
    "        size.append(count_parameters(checkpoint['model_state_dict']))\n",
    "    \n",
    "    y = []\n",
    "    \n",
    "    y.append(baseline_acc)\n",
    "    for elem in test_acc:\n",
    "        if epoch < len(elem):\n",
    "            y.append(elem[epoch])\n",
    "        else: \n",
    "            y.append(elem[-1])\n",
    "    print(y)\n",
    "    print(size)\n",
    "    #x = [i for i in range(0, 110, 10)]\n",
    "    fig, ax1 = plt.subplots()\n",
    "    plt.title(f'Test accuracy of pruned models after {epoch} epoch(s)')\n",
    "    \n",
    "    plt.grid(axis='both')\n",
    "    ax1.set_xlabel('prune ratio')\n",
    "    ax1.set_ylabel('accuracy')\n",
    "    \n",
    "    ax1.plot(x, y, color='g')\n",
    "\n",
    "    ax2 = ax1.twinx()  # instantiate a second axes that shares the same x-axis\n",
    "\n",
    "    color = 'tab:blue'\n",
    "    ax2.set_ylabel('num parameters')  # we already handled the x-label with ax1\n",
    "    ax2.plot(x, size, color='b')\n",
    "    ax1.legend(['accuracy'], loc='lower left')\n",
    "    ax2.legend(['parameters'], loc='upper right')\n",
    "    #plt.xticks(list(range(0, len(x), 2)))\n",
    "    fig.tight_layout()  # otherwise the right y-label is slightly clipped\n",
    "    plt.savefig(path + f\"acc_model_size_epoch_{epoch}\")"
   ]
  },
  {
   "cell_type": "code",
   "execution_count": null,
   "id": "e3f11704",
   "metadata": {},
   "outputs": [],
   "source": []
  }
 ],
 "metadata": {
  "kernelspec": {
   "display_name": "Python 3",
   "language": "python",
   "name": "python3"
  },
  "language_info": {
   "codemirror_mode": {
    "name": "ipython",
    "version": 3
   },
   "file_extension": ".py",
   "mimetype": "text/x-python",
   "name": "python",
   "nbconvert_exporter": "python",
   "pygments_lexer": "ipython3",
   "version": "3.8.8"
  }
 },
 "nbformat": 4,
 "nbformat_minor": 5
}
